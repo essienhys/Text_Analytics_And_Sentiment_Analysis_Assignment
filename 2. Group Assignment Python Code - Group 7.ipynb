{
  "nbformat": 4,
  "nbformat_minor": 0,
  "metadata": {
    "colab": {
      "name": "TXSA.ipynb",
      "provenance": [],
      "collapsed_sections": [
        "737f2461-0ce6-4e48-80c8-69f2938d42cc",
        "2f1c4786-8e8f-4359-b6fd-b0caf3157dcc",
        "wR2HRc9oZ7cP"
      ]
    },
    "kernelspec": {
      "name": "python3",
      "display_name": "Python 3"
    },
    "language_info": {
      "name": "python"
    }
  },
  "cells": [
    {
      "cell_type": "markdown",
      "metadata": {
        "id": "ex54ROYOoJrT"
      },
      "source": [
        "**GROUP ASSIGNMENT (GROUP 7)**  \n",
        "Group Member:  \n",
        "1. Foong Kit Wah (TP049786\n",
        "2. Heng Yi Sheng (TP048930)\n",
        "3. Kong Xin Ying (TP055102)"
      ]
    },
    {
      "cell_type": "markdown",
      "metadata": {
        "id": "0PuSe8YuzNax"
      },
      "source": [
        "# Q1 Unigram"
      ]
    },
    {
      "cell_type": "markdown",
      "metadata": {
        "id": "V2MdPb0QzP-a"
      },
      "source": [
        "## Loading Text File and Preprocessing"
      ]
    },
    {
      "cell_type": "code",
      "metadata": {
        "id": "JzFmnwLszUuU",
        "colab": {
          "base_uri": "https://localhost:8080/"
        },
        "outputId": "5cd20437-bee1-4bf4-b5e1-98a072060989"
      },
      "source": [
        "import nltk\n",
        "nltk.download('punkt')\n",
        "\n",
        "#Load file\n",
        "text_file = open(\"/content/Text_Corpus.txt\",\"r\")\n",
        "corpus = [line.strip() for line in text_file]\n",
        "\n",
        "##Tokenization & decapitalization\n",
        "tokenized_corpus = [nltk.tokenize.word_tokenize(corpus[i].lower()) for i in range(len(corpus))]\n",
        "\n",
        "#remove padding\n",
        "paddings = ['>', '<', 's', '/s']\n",
        "filtered_corpus = [[j for j in tokenized_corpus[i] if j not in paddings] for i in range(len(tokenized_corpus))]\n",
        "            \n",
        "print(filtered_corpus)\n"
      ],
      "execution_count": 2,
      "outputs": [
        {
          "output_type": "stream",
          "name": "stdout",
          "text": [
            "[nltk_data] Downloading package punkt to /root/nltk_data...\n",
            "[nltk_data]   Package punkt is already up-to-date!\n",
            "[['he', 'read', 'a', 'book'], ['i', 'read', 'a', 'different', 'book'], ['he', 'read', 'a', 'book', 'my', 'mulan']]\n"
          ]
        }
      ]
    },
    {
      "cell_type": "markdown",
      "metadata": {
        "id": "QWyrkmlWPqru"
      },
      "source": [
        "### Unsmoothed Unigram Language Model"
      ]
    },
    {
      "cell_type": "code",
      "metadata": {
        "colab": {
          "base_uri": "https://localhost:8080/",
          "height": 661
        },
        "id": "t3JkUs35VLVo",
        "outputId": "8bbb82a7-fbf5-4006-ec79-28cbfd821732"
      },
      "source": [
        "!pip install -U pip\n",
        "!pip install -U dill\n",
        "!pip install -U nltk==3.4"
      ],
      "execution_count": 3,
      "outputs": [
        {
          "output_type": "stream",
          "name": "stdout",
          "text": [
            "Requirement already satisfied: pip in /usr/local/lib/python3.7/dist-packages (21.1.3)\n",
            "Collecting pip\n",
            "  Downloading pip-21.3.1-py3-none-any.whl (1.7 MB)\n",
            "\u001b[K     |████████████████████████████████| 1.7 MB 15.0 MB/s \n",
            "\u001b[?25hInstalling collected packages: pip\n",
            "  Attempting uninstall: pip\n",
            "    Found existing installation: pip 21.1.3\n",
            "    Uninstalling pip-21.1.3:\n",
            "      Successfully uninstalled pip-21.1.3\n",
            "Successfully installed pip-21.3.1\n",
            "Requirement already satisfied: dill in /usr/local/lib/python3.7/dist-packages (0.3.4)\n",
            "\u001b[33mWARNING: Running pip as the 'root' user can result in broken permissions and conflicting behaviour with the system package manager. It is recommended to use a virtual environment instead: https://pip.pypa.io/warnings/venv\u001b[0m\n",
            "Collecting nltk==3.4\n",
            "  Downloading nltk-3.4.zip (1.4 MB)\n",
            "     |████████████████████████████████| 1.4 MB 14.8 MB/s            \n",
            "\u001b[?25h  Preparing metadata (setup.py) ... \u001b[?25l\u001b[?25hdone\n",
            "Requirement already satisfied: six in /usr/local/lib/python3.7/dist-packages (from nltk==3.4) (1.15.0)\n",
            "Collecting singledispatch\n",
            "  Downloading singledispatch-3.7.0-py2.py3-none-any.whl (9.2 kB)\n",
            "Building wheels for collected packages: nltk\n",
            "  Building wheel for nltk (setup.py) ... \u001b[?25l\u001b[?25hdone\n",
            "  Created wheel for nltk: filename=nltk-3.4-py3-none-any.whl size=1436397 sha256=d61dfe54e71283ac52a66dd61dcdbbd52f254c0c21979cc150ea1cf78bd9f4b3\n",
            "  Stored in directory: /root/.cache/pip/wheels/13/b8/81/2349be11dd144dc7b68ab983b58cd2fae353cdc50bbdeb09d0\n",
            "Successfully built nltk\n",
            "Installing collected packages: singledispatch, nltk\n",
            "  Attempting uninstall: nltk\n",
            "    Found existing installation: nltk 3.2.5\n",
            "    Uninstalling nltk-3.2.5:\n",
            "      Successfully uninstalled nltk-3.2.5\n",
            "Successfully installed nltk-3.4 singledispatch-3.7.0\n",
            "\u001b[33mWARNING: Running pip as the 'root' user can result in broken permissions and conflicting behaviour with the system package manager. It is recommended to use a virtual environment instead: https://pip.pypa.io/warnings/venv\u001b[0m\n"
          ]
        },
        {
          "output_type": "display_data",
          "data": {
            "application/vnd.colab-display-data+json": {
              "pip_warning": {
                "packages": [
                  "nltk"
                ]
              }
            }
          },
          "metadata": {}
        }
      ]
    },
    {
      "cell_type": "code",
      "metadata": {
        "id": "stFMYeS3PziF"
      },
      "source": [
        "# Libraries import\n",
        "from nltk.util import everygrams\n",
        "from nltk.lm.preprocessing import padded_everygram_pipeline\n",
        "from nltk.lm import MLE \n"
      ],
      "execution_count": 4,
      "outputs": []
    },
    {
      "cell_type": "code",
      "metadata": {
        "id": "qtjVqJp6P8Vu"
      },
      "source": [
        "#unigram\n",
        "n=1;\n",
        "train_data, padded_sents = padded_everygram_pipeline(n, filtered_corpus)\n",
        "\n",
        "model = MLE(n) # Train a unigram maximum likelihood estimation model\n",
        "model.fit(train_data, padded_sents) # Model building"
      ],
      "execution_count": 5,
      "outputs": []
    },
    {
      "cell_type": "code",
      "metadata": {
        "colab": {
          "base_uri": "https://localhost:8080/"
        },
        "id": "d-E3LROJS81O",
        "outputId": "2998413f-67c3-41f5-9031-f0f2941bbe5e"
      },
      "source": [
        "model.score('he') "
      ],
      "execution_count": 6,
      "outputs": [
        {
          "output_type": "execute_result",
          "data": {
            "text/plain": [
              "0.13333333333333333"
            ]
          },
          "metadata": {},
          "execution_count": 6
        }
      ]
    },
    {
      "cell_type": "code",
      "metadata": {
        "colab": {
          "base_uri": "https://localhost:8080/"
        },
        "id": "TAnLV6R6TPjw",
        "outputId": "768a97a0-53d2-4e45-c585-75f17ff929cd"
      },
      "source": [
        "model.score('read')"
      ],
      "execution_count": 7,
      "outputs": [
        {
          "output_type": "execute_result",
          "data": {
            "text/plain": [
              "0.2"
            ]
          },
          "metadata": {},
          "execution_count": 7
        }
      ]
    },
    {
      "cell_type": "code",
      "metadata": {
        "colab": {
          "base_uri": "https://localhost:8080/"
        },
        "id": "UPga-MnjTP-L",
        "outputId": "c415542b-a0d4-428d-c4b4-a8542d8bb6fd"
      },
      "source": [
        "model.score('a')"
      ],
      "execution_count": 8,
      "outputs": [
        {
          "output_type": "execute_result",
          "data": {
            "text/plain": [
              "0.2"
            ]
          },
          "metadata": {},
          "execution_count": 8
        }
      ]
    },
    {
      "cell_type": "code",
      "metadata": {
        "colab": {
          "base_uri": "https://localhost:8080/"
        },
        "id": "Hv1AcV25TQYL",
        "outputId": "627999a2-92ca-4804-a93f-f19fc608262e"
      },
      "source": [
        "model.score('book')"
      ],
      "execution_count": 9,
      "outputs": [
        {
          "output_type": "execute_result",
          "data": {
            "text/plain": [
              "0.2"
            ]
          },
          "metadata": {},
          "execution_count": 9
        }
      ]
    },
    {
      "cell_type": "code",
      "metadata": {
        "colab": {
          "base_uri": "https://localhost:8080/"
        },
        "id": "7L66UwCtTQhl",
        "outputId": "b4769f1d-ce19-474e-be39-c27a27e15e1c"
      },
      "source": [
        "model.score('i')"
      ],
      "execution_count": 10,
      "outputs": [
        {
          "output_type": "execute_result",
          "data": {
            "text/plain": [
              "0.06666666666666667"
            ]
          },
          "metadata": {},
          "execution_count": 10
        }
      ]
    },
    {
      "cell_type": "code",
      "metadata": {
        "colab": {
          "base_uri": "https://localhost:8080/"
        },
        "id": "vekWD3jxTQq-",
        "outputId": "49b3b6b6-d1da-481c-a394-f32f856298fb"
      },
      "source": [
        "model.score('different')"
      ],
      "execution_count": 11,
      "outputs": [
        {
          "output_type": "execute_result",
          "data": {
            "text/plain": [
              "0.06666666666666667"
            ]
          },
          "metadata": {},
          "execution_count": 11
        }
      ]
    },
    {
      "cell_type": "code",
      "metadata": {
        "colab": {
          "base_uri": "https://localhost:8080/"
        },
        "id": "oS0XW-hJTavB",
        "outputId": "cab26e52-8269-456c-fe89-0597e57103e6"
      },
      "source": [
        "model.score('mulan')"
      ],
      "execution_count": 12,
      "outputs": [
        {
          "output_type": "execute_result",
          "data": {
            "text/plain": [
              "0.06666666666666667"
            ]
          },
          "metadata": {},
          "execution_count": 12
        }
      ]
    },
    {
      "cell_type": "code",
      "metadata": {
        "colab": {
          "base_uri": "https://localhost:8080/"
        },
        "id": "QHI3teNOTazo",
        "outputId": "82db09bd-808c-47bb-90ac-4c2678588ce6"
      },
      "source": [
        "model.score('my')"
      ],
      "execution_count": 13,
      "outputs": [
        {
          "output_type": "execute_result",
          "data": {
            "text/plain": [
              "0.06666666666666667"
            ]
          },
          "metadata": {},
          "execution_count": 13
        }
      ]
    },
    {
      "cell_type": "markdown",
      "metadata": {
        "id": "VE0_2ExuP54m"
      },
      "source": [
        "### Smoothed Unigram Language Model"
      ]
    },
    {
      "cell_type": "code",
      "metadata": {
        "id": "E1860OIeULn2"
      },
      "source": [
        "from nltk.util import everygrams\n",
        "from nltk.lm.preprocessing import padded_everygram_pipeline\n",
        "from nltk.lm import Laplace\n",
        "\n",
        "n=1;\n",
        "train_data, padded_sents = padded_everygram_pipeline(n, filtered_corpus)\n",
        "\n",
        "model_smooth = Laplace(order = n) # Train a unigram Laplace Smoothed model\n",
        "model_smooth.fit(train_data, padded_sents) # Model building"
      ],
      "execution_count": 14,
      "outputs": []
    },
    {
      "cell_type": "code",
      "metadata": {
        "colab": {
          "base_uri": "https://localhost:8080/"
        },
        "id": "5DNiLicKUMQM",
        "outputId": "55786026-cb6c-4f98-a3b2-4683e24387ba"
      },
      "source": [
        "model_smooth.score('he')"
      ],
      "execution_count": 15,
      "outputs": [
        {
          "output_type": "execute_result",
          "data": {
            "text/plain": [
              "0.125"
            ]
          },
          "metadata": {},
          "execution_count": 15
        }
      ]
    },
    {
      "cell_type": "code",
      "metadata": {
        "colab": {
          "base_uri": "https://localhost:8080/"
        },
        "id": "l9wQ6rixUMn7",
        "outputId": "9ababdb1-a541-49ca-c83b-a3401aa16508"
      },
      "source": [
        "model_smooth.score('read')"
      ],
      "execution_count": 16,
      "outputs": [
        {
          "output_type": "execute_result",
          "data": {
            "text/plain": [
              "0.16666666666666666"
            ]
          },
          "metadata": {},
          "execution_count": 16
        }
      ]
    },
    {
      "cell_type": "code",
      "metadata": {
        "colab": {
          "base_uri": "https://localhost:8080/"
        },
        "id": "mdqvwyphVOAK",
        "outputId": "438e843b-c631-4587-813f-bfc9aea0325b"
      },
      "source": [
        "model_smooth.score('a')"
      ],
      "execution_count": 17,
      "outputs": [
        {
          "output_type": "execute_result",
          "data": {
            "text/plain": [
              "0.16666666666666666"
            ]
          },
          "metadata": {},
          "execution_count": 17
        }
      ]
    },
    {
      "cell_type": "code",
      "metadata": {
        "colab": {
          "base_uri": "https://localhost:8080/"
        },
        "id": "dSEbHwhaVODE",
        "outputId": "6a0a29bb-dacf-4026-85dd-eb366bc4e0d3"
      },
      "source": [
        "model_smooth.score('book')"
      ],
      "execution_count": 18,
      "outputs": [
        {
          "output_type": "execute_result",
          "data": {
            "text/plain": [
              "0.16666666666666666"
            ]
          },
          "metadata": {},
          "execution_count": 18
        }
      ]
    },
    {
      "cell_type": "code",
      "metadata": {
        "colab": {
          "base_uri": "https://localhost:8080/"
        },
        "id": "jvsPGD-LVOFj",
        "outputId": "faa3628b-011f-4f63-824e-613d1a4e433d"
      },
      "source": [
        "model_smooth.score('i')"
      ],
      "execution_count": 19,
      "outputs": [
        {
          "output_type": "execute_result",
          "data": {
            "text/plain": [
              "0.08333333333333333"
            ]
          },
          "metadata": {},
          "execution_count": 19
        }
      ]
    },
    {
      "cell_type": "code",
      "metadata": {
        "colab": {
          "base_uri": "https://localhost:8080/"
        },
        "id": "J9yk_hAAVOIP",
        "outputId": "ec845beb-fda2-4e7c-e67a-58c6117da0b1"
      },
      "source": [
        "model_smooth.score('different')"
      ],
      "execution_count": 20,
      "outputs": [
        {
          "output_type": "execute_result",
          "data": {
            "text/plain": [
              "0.08333333333333333"
            ]
          },
          "metadata": {},
          "execution_count": 20
        }
      ]
    },
    {
      "cell_type": "code",
      "metadata": {
        "colab": {
          "base_uri": "https://localhost:8080/"
        },
        "id": "CEKjN2vcVOLZ",
        "outputId": "f0a562d4-ae8e-4d79-efac-d8839bbc1e18"
      },
      "source": [
        "model_smooth.score('mulan')"
      ],
      "execution_count": 21,
      "outputs": [
        {
          "output_type": "execute_result",
          "data": {
            "text/plain": [
              "0.08333333333333333"
            ]
          },
          "metadata": {},
          "execution_count": 21
        }
      ]
    },
    {
      "cell_type": "code",
      "metadata": {
        "colab": {
          "base_uri": "https://localhost:8080/"
        },
        "id": "jfUFl-VkVUjI",
        "outputId": "c24b4f63-4d24-4af2-b4b3-4cdbde0e035c"
      },
      "source": [
        "model_smooth.score('my')"
      ],
      "execution_count": 22,
      "outputs": [
        {
          "output_type": "execute_result",
          "data": {
            "text/plain": [
              "0.08333333333333333"
            ]
          },
          "metadata": {},
          "execution_count": 22
        }
      ]
    },
    {
      "cell_type": "markdown",
      "metadata": {
        "id": "07cb32c9-1764-4862-abb8-bd49048e942f"
      },
      "source": [
        "# Q2 Bigram"
      ]
    },
    {
      "cell_type": "markdown",
      "metadata": {
        "id": "d989ac8a-6add-4a39-889c-9e591acaf1ae"
      },
      "source": [
        "### Loading Text File and Preprocessing"
      ]
    },
    {
      "cell_type": "code",
      "metadata": {
        "id": "02a7095f-46bd-4021-accb-aecec76f8742",
        "colab": {
          "base_uri": "https://localhost:8080/"
        },
        "outputId": "81892e94-6822-4687-9b00-5e63934e69fe"
      },
      "source": [
        "import nltk\n",
        "nltk.download('punkt')\n",
        "\n",
        "# Reading txt file\n",
        "text = open(\"/content/Text_Corpus.txt\", \"r\")\n",
        "corpus = [line.strip() for line in text]\n",
        "\n",
        "# Perform tokenization and decapitalization\n",
        "tokenized_corpus = [nltk.tokenize.word_tokenize(corpus[i].lower()) for i in range(len(corpus))]"
      ],
      "execution_count": 24,
      "outputs": [
        {
          "output_type": "stream",
          "name": "stdout",
          "text": [
            "[nltk_data] Downloading package punkt to /root/nltk_data...\n",
            "[nltk_data]   Package punkt is already up-to-date!\n"
          ]
        }
      ]
    },
    {
      "cell_type": "code",
      "metadata": {
        "id": "2e0c3b4e-6e18-4793-a478-1cf05b7e6eca",
        "colab": {
          "base_uri": "https://localhost:8080/"
        },
        "outputId": "bc82fbeb-01e5-433b-888b-b04d3b83a576"
      },
      "source": [
        "paddings = ['>', '<', 's', '/s']\n",
        "\n",
        "# filter paddings\n",
        "filtered_corpus = [[j for j in tokenized_corpus[i] if j not in paddings] for i in range(len(tokenized_corpus))]\n",
        "            \n",
        "print(filtered_corpus)"
      ],
      "execution_count": 25,
      "outputs": [
        {
          "output_type": "stream",
          "name": "stdout",
          "text": [
            "[['he', 'read', 'a', 'book'], ['i', 'read', 'a', 'different', 'book'], ['he', 'read', 'a', 'book', 'my', 'mulan']]\n"
          ]
        }
      ]
    },
    {
      "cell_type": "code",
      "metadata": {
        "id": "bed39adb-e4e0-4364-b13b-82cb1924cf38",
        "colab": {
          "base_uri": "https://localhost:8080/"
        },
        "outputId": "3b9d404d-8611-472d-f166-315a29b95181"
      },
      "source": [
        "!pip install -U pip\n",
        "!pip install -U dill\n",
        "!pip install -U nltk==3.4\n",
        "\n",
        "# Insert paddings at both ends and form bigram\n",
        "from nltk.lm.preprocessing import pad_both_ends\n",
        "from nltk.util import bigrams\n",
        "print(list(pad_both_ends(filtered_corpus[0], n=2)))\n",
        "print(list(bigrams(pad_both_ends(filtered_corpus[0], n=2))), \"\\n\")\n",
        "\n",
        "print(list(pad_both_ends(filtered_corpus[1], n=2)))\n",
        "print(list(bigrams(pad_both_ends(filtered_corpus[0], n=2))), \"\\n\")\n",
        "\n",
        "print(list(pad_both_ends(filtered_corpus[2], n=2)))\n",
        "print(list(bigrams(pad_both_ends(filtered_corpus[0], n=2))), \"\\n\")"
      ],
      "execution_count": 26,
      "outputs": [
        {
          "output_type": "stream",
          "name": "stdout",
          "text": [
            "Requirement already satisfied: pip in /usr/local/lib/python3.7/dist-packages (21.3.1)\n",
            "\u001b[33mWARNING: Running pip as the 'root' user can result in broken permissions and conflicting behaviour with the system package manager. It is recommended to use a virtual environment instead: https://pip.pypa.io/warnings/venv\u001b[0m\n",
            "Requirement already satisfied: dill in /usr/local/lib/python3.7/dist-packages (0.3.4)\n",
            "\u001b[33mWARNING: Running pip as the 'root' user can result in broken permissions and conflicting behaviour with the system package manager. It is recommended to use a virtual environment instead: https://pip.pypa.io/warnings/venv\u001b[0m\n",
            "Requirement already satisfied: nltk==3.4 in /usr/local/lib/python3.7/dist-packages (3.4)\n",
            "Requirement already satisfied: singledispatch in /usr/local/lib/python3.7/dist-packages (from nltk==3.4) (3.7.0)\n",
            "Requirement already satisfied: six in /usr/local/lib/python3.7/dist-packages (from nltk==3.4) (1.15.0)\n",
            "\u001b[33mWARNING: Running pip as the 'root' user can result in broken permissions and conflicting behaviour with the system package manager. It is recommended to use a virtual environment instead: https://pip.pypa.io/warnings/venv\u001b[0m\n",
            "['<s>', 'he', 'read', 'a', 'book', '</s>']\n",
            "[('<s>', 'he'), ('he', 'read'), ('read', 'a'), ('a', 'book'), ('book', '</s>')] \n",
            "\n",
            "['<s>', 'i', 'read', 'a', 'different', 'book', '</s>']\n",
            "[('<s>', 'he'), ('he', 'read'), ('read', 'a'), ('a', 'book'), ('book', '</s>')] \n",
            "\n",
            "['<s>', 'he', 'read', 'a', 'book', 'my', 'mulan', '</s>']\n",
            "[('<s>', 'he'), ('he', 'read'), ('read', 'a'), ('a', 'book'), ('book', '</s>')] \n",
            "\n"
          ]
        }
      ]
    },
    {
      "cell_type": "code",
      "metadata": {
        "id": "b03d0c99-e842-49cf-9bd0-8ae74aee00e8",
        "colab": {
          "base_uri": "https://localhost:8080/"
        },
        "outputId": "48a179a1-c9b1-44e6-cd0e-ae7289137cf6"
      },
      "source": [
        "from nltk.lm.preprocessing import flatten\n",
        "\n",
        "# Perform flattening\n",
        "print(list(flatten(pad_both_ends(sent, n=2) for sent in filtered_corpus)))"
      ],
      "execution_count": 27,
      "outputs": [
        {
          "output_type": "stream",
          "name": "stdout",
          "text": [
            "['<s>', 'he', 'read', 'a', 'book', '</s>', '<s>', 'i', 'read', 'a', 'different', 'book', '</s>', '<s>', 'he', 'read', 'a', 'book', 'my', 'mulan', '</s>']\n"
          ]
        }
      ]
    },
    {
      "cell_type": "markdown",
      "metadata": {
        "id": "d3fd016b-9aad-4da8-9c54-23432d806193"
      },
      "source": [
        "### Unsmoothed Bigram Language Model"
      ]
    },
    {
      "cell_type": "code",
      "metadata": {
        "id": "ef952054-a230-416f-af9f-08c2ff41a048"
      },
      "source": [
        "# Preprocess the tokenized text for Bi-gram language modelling\n",
        "from nltk.lm.preprocessing import padded_everygram_pipeline\n",
        "from nltk.lm import MLE #Maximum likelihood estimation \n",
        "\n",
        "#Bi-gram\n",
        "train_data, padded_sents = padded_everygram_pipeline(2, filtered_corpus)\n",
        "\n",
        "model = MLE(2) # Train a Bi-gram maximum likelihood estimation model.\n",
        "model.fit(train_data, padded_sents) # Model building"
      ],
      "execution_count": 28,
      "outputs": []
    },
    {
      "cell_type": "code",
      "metadata": {
        "id": "012c19d4-f223-4a98-a233-dd817f148bf0",
        "colab": {
          "base_uri": "https://localhost:8080/"
        },
        "outputId": "10206350-6a8d-4f1f-8945-80df544a6a68"
      },
      "source": [
        "model.score('he', '<s>'.split()) # P('he'|'<s>')"
      ],
      "execution_count": 29,
      "outputs": [
        {
          "output_type": "execute_result",
          "data": {
            "text/plain": [
              "0.6666666666666666"
            ]
          },
          "metadata": {},
          "execution_count": 29
        }
      ]
    },
    {
      "cell_type": "code",
      "metadata": {
        "id": "8c01a1e4-2e0b-4c1f-bc02-3d2645dd5e53",
        "colab": {
          "base_uri": "https://localhost:8080/"
        },
        "outputId": "1324e995-fd74-45ed-9791-211524c862e4"
      },
      "source": [
        "model.score('read', 'he'.split()) # P('read'|'he')"
      ],
      "execution_count": 30,
      "outputs": [
        {
          "output_type": "execute_result",
          "data": {
            "text/plain": [
              "1.0"
            ]
          },
          "metadata": {},
          "execution_count": 30
        }
      ]
    },
    {
      "cell_type": "code",
      "metadata": {
        "id": "e9ee6096-9ee0-416e-a515-35f191baed2e",
        "colab": {
          "base_uri": "https://localhost:8080/"
        },
        "outputId": "aacdf78b-58d2-4fa4-d715-712feda048b7"
      },
      "source": [
        "model.score('a', 'read'.split()) # P('a'|'read')"
      ],
      "execution_count": 31,
      "outputs": [
        {
          "output_type": "execute_result",
          "data": {
            "text/plain": [
              "1.0"
            ]
          },
          "metadata": {},
          "execution_count": 31
        }
      ]
    },
    {
      "cell_type": "code",
      "metadata": {
        "id": "6413f5c7-dcbd-4f5c-9139-d0dfb6d47b8c",
        "colab": {
          "base_uri": "https://localhost:8080/"
        },
        "outputId": "1330783a-e58c-44ed-e1f7-6b330365773f"
      },
      "source": [
        "model.score('book', 'a'.split()) # P('book'|'a')"
      ],
      "execution_count": 32,
      "outputs": [
        {
          "output_type": "execute_result",
          "data": {
            "text/plain": [
              "0.6666666666666666"
            ]
          },
          "metadata": {},
          "execution_count": 32
        }
      ]
    },
    {
      "cell_type": "code",
      "metadata": {
        "id": "29e02796-177b-407b-a0f3-94902170c1a5",
        "colab": {
          "base_uri": "https://localhost:8080/"
        },
        "outputId": "78fc7290-4271-44d9-8ec8-b38bf68b4da9"
      },
      "source": [
        "model.score('</s>', 'book'.split()) # P('</s>'|'book')"
      ],
      "execution_count": 33,
      "outputs": [
        {
          "output_type": "execute_result",
          "data": {
            "text/plain": [
              "0.6666666666666666"
            ]
          },
          "metadata": {},
          "execution_count": 33
        }
      ]
    },
    {
      "cell_type": "code",
      "metadata": {
        "id": "95f53cca-8f12-4c8c-83b3-eb70737a2d90",
        "colab": {
          "base_uri": "https://localhost:8080/"
        },
        "outputId": "442b96f0-3dc9-4c76-d7d6-e7eaf8d43790"
      },
      "source": [
        "model.score('i', '<s>'.split()) # P('i'|'<s>')"
      ],
      "execution_count": 34,
      "outputs": [
        {
          "output_type": "execute_result",
          "data": {
            "text/plain": [
              "0.3333333333333333"
            ]
          },
          "metadata": {},
          "execution_count": 34
        }
      ]
    },
    {
      "cell_type": "code",
      "metadata": {
        "id": "66bf776b-0db9-4dcc-9af1-285c31e4a735",
        "colab": {
          "base_uri": "https://localhost:8080/"
        },
        "outputId": "7b24e978-ba7a-4211-ba7d-19195221b881"
      },
      "source": [
        "model.score('read', 'i'.split()) # P('read'|'i')"
      ],
      "execution_count": 35,
      "outputs": [
        {
          "output_type": "execute_result",
          "data": {
            "text/plain": [
              "1.0"
            ]
          },
          "metadata": {},
          "execution_count": 35
        }
      ]
    },
    {
      "cell_type": "code",
      "metadata": {
        "id": "ab5bddaa-cb54-4dd2-aa30-f74f139025e1",
        "colab": {
          "base_uri": "https://localhost:8080/"
        },
        "outputId": "c2b569e4-e3fb-4b5d-deb2-41f0ce6e3815"
      },
      "source": [
        "model.score('different', 'a'.split()) # P('different'|'a')"
      ],
      "execution_count": 36,
      "outputs": [
        {
          "output_type": "execute_result",
          "data": {
            "text/plain": [
              "0.3333333333333333"
            ]
          },
          "metadata": {},
          "execution_count": 36
        }
      ]
    },
    {
      "cell_type": "code",
      "metadata": {
        "id": "33a0e5e0-6f6a-4906-8ad2-f71dc4afcd31",
        "colab": {
          "base_uri": "https://localhost:8080/"
        },
        "outputId": "06d13ac8-7c39-44fc-9a04-4c68f9fc1ab6"
      },
      "source": [
        "model.score('book', 'different'.split()) # P('book'|'different')"
      ],
      "execution_count": 37,
      "outputs": [
        {
          "output_type": "execute_result",
          "data": {
            "text/plain": [
              "1.0"
            ]
          },
          "metadata": {},
          "execution_count": 37
        }
      ]
    },
    {
      "cell_type": "code",
      "metadata": {
        "id": "6bcedfab-ebfd-4cea-9025-c658cc73d7b8",
        "colab": {
          "base_uri": "https://localhost:8080/"
        },
        "outputId": "d8f9bf2d-e27d-4bee-f70f-757f8f828ce8"
      },
      "source": [
        "model.score('my', 'book'.split()) # P('my'|'book')"
      ],
      "execution_count": 38,
      "outputs": [
        {
          "output_type": "execute_result",
          "data": {
            "text/plain": [
              "0.3333333333333333"
            ]
          },
          "metadata": {},
          "execution_count": 38
        }
      ]
    },
    {
      "cell_type": "code",
      "metadata": {
        "id": "498123b1-8699-4269-9e0a-e6a8c973396b",
        "colab": {
          "base_uri": "https://localhost:8080/"
        },
        "outputId": "101f82f2-7405-40e5-d337-b615c2da2e61"
      },
      "source": [
        "model.score('mulan', 'my'.split()) # P('mulan'|'my')"
      ],
      "execution_count": 39,
      "outputs": [
        {
          "output_type": "execute_result",
          "data": {
            "text/plain": [
              "1.0"
            ]
          },
          "metadata": {},
          "execution_count": 39
        }
      ]
    },
    {
      "cell_type": "code",
      "metadata": {
        "id": "87029f3a-5cf6-4250-94f6-6fa5a18c4104",
        "colab": {
          "base_uri": "https://localhost:8080/"
        },
        "outputId": "dcf1d9e9-7b10-484c-c053-cb5ef038bc21"
      },
      "source": [
        "model.score('</s>', 'mulan'.split()) # P('</s>'|'mulan')"
      ],
      "execution_count": 40,
      "outputs": [
        {
          "output_type": "execute_result",
          "data": {
            "text/plain": [
              "1.0"
            ]
          },
          "metadata": {},
          "execution_count": 40
        }
      ]
    },
    {
      "cell_type": "markdown",
      "metadata": {
        "id": "0a38890a-9ef3-4506-bec9-bae3c4499f9c"
      },
      "source": [
        "### Smoothed Bigram Language Model - Laplace"
      ]
    },
    {
      "cell_type": "code",
      "metadata": {
        "id": "c8f2de9d-a33b-4c0a-8986-284a13e78221"
      },
      "source": [
        "# Preprocess the tokenized text for Bi-gram language modelling\n",
        "from nltk.lm.preprocessing import padded_everygram_pipeline\n",
        "from nltk.lm import Laplace # Laplace Smoothed\n",
        "from nltk.lm import Vocabulary\n",
        "\n",
        "# Create lookup vocabulary as <s> and </s> should not be considered as the vocabulary\n",
        "vocab = Vocabulary([\"he\", \"read\", \"a\", \"book\", \"i\", \"different\", \"my\", \"mulan\"])\n",
        "\n",
        "# Bi-gram\n",
        "train_data, padded_sents = padded_everygram_pipeline(2, filtered_corpus)\n",
        "\n",
        "model_smoothed = Laplace(vocabulary = vocab, order = 2) # Train a Bi-gram Laplace Smoothed model.\n",
        "model_smoothed.fit(train_data, padded_sents) # Model building"
      ],
      "execution_count": 41,
      "outputs": []
    },
    {
      "cell_type": "code",
      "metadata": {
        "id": "be701b4b-9e80-463c-bf52-86471f26f32c",
        "colab": {
          "base_uri": "https://localhost:8080/"
        },
        "outputId": "be5ac0f0-5f1b-4798-d5df-5b33aa457a48"
      },
      "source": [
        "print(model_smoothed.vocab)"
      ],
      "execution_count": 42,
      "outputs": [
        {
          "output_type": "stream",
          "name": "stdout",
          "text": [
            "<Vocabulary with cutoff=1 unk_label='<UNK>' and 9 items>\n"
          ]
        }
      ]
    },
    {
      "cell_type": "code",
      "metadata": {
        "id": "8ebbf871-f0e1-4e56-becf-8649f713bfea",
        "colab": {
          "base_uri": "https://localhost:8080/"
        },
        "outputId": "95330309-15be-495e-a55c-1031f125e5e0"
      },
      "source": [
        "model_smoothed.score('he', '<s>'.split()) # P('he'|'<s>')"
      ],
      "execution_count": 43,
      "outputs": [
        {
          "output_type": "execute_result",
          "data": {
            "text/plain": [
              "0.25"
            ]
          },
          "metadata": {},
          "execution_count": 43
        }
      ]
    },
    {
      "cell_type": "code",
      "metadata": {
        "id": "e00f6725-6af5-4ce0-8ac6-9d15c1c33f98",
        "colab": {
          "base_uri": "https://localhost:8080/"
        },
        "outputId": "7f8fb402-6236-4ecb-d0ba-42512716b69b"
      },
      "source": [
        "model_smoothed.score('read', 'he'.split()) # P('read'|'he')"
      ],
      "execution_count": 44,
      "outputs": [
        {
          "output_type": "execute_result",
          "data": {
            "text/plain": [
              "0.2727272727272727"
            ]
          },
          "metadata": {},
          "execution_count": 44
        }
      ]
    },
    {
      "cell_type": "code",
      "metadata": {
        "id": "cd2de9de-2924-4609-98a5-ad2c6ccf72d3",
        "colab": {
          "base_uri": "https://localhost:8080/"
        },
        "outputId": "4e3a973d-fdb2-4735-cf7c-2cd3f375db10"
      },
      "source": [
        "model_smoothed.score('a', 'read'.split()) # P('a'|'read')"
      ],
      "execution_count": 45,
      "outputs": [
        {
          "output_type": "execute_result",
          "data": {
            "text/plain": [
              "0.3333333333333333"
            ]
          },
          "metadata": {},
          "execution_count": 45
        }
      ]
    },
    {
      "cell_type": "code",
      "metadata": {
        "id": "25c35ddb-1e8e-4045-a456-91b5eee0a5d3",
        "colab": {
          "base_uri": "https://localhost:8080/"
        },
        "outputId": "c2d049f4-6abc-46e1-a50e-627767229cbd"
      },
      "source": [
        "model_smoothed.score('book', 'a'.split()) # P('book'|'a')"
      ],
      "execution_count": 46,
      "outputs": [
        {
          "output_type": "execute_result",
          "data": {
            "text/plain": [
              "0.25"
            ]
          },
          "metadata": {},
          "execution_count": 46
        }
      ]
    },
    {
      "cell_type": "code",
      "metadata": {
        "id": "bb06070e-307d-47cf-bca2-d87eb7050b39",
        "colab": {
          "base_uri": "https://localhost:8080/"
        },
        "outputId": "f011c193-36e0-40d5-8969-47735e0a66fe"
      },
      "source": [
        "model_smoothed.score('</s>', 'book'.split()) # P('</s>'|'book')"
      ],
      "execution_count": 47,
      "outputs": [
        {
          "output_type": "execute_result",
          "data": {
            "text/plain": [
              "0.25"
            ]
          },
          "metadata": {},
          "execution_count": 47
        }
      ]
    },
    {
      "cell_type": "code",
      "metadata": {
        "id": "e35c8c39-4d27-4877-9105-8e322388be9e",
        "colab": {
          "base_uri": "https://localhost:8080/"
        },
        "outputId": "9071e49e-82e9-491a-bdb8-723175508fef"
      },
      "source": [
        "model_smoothed.score('i', '<s>'.split()) # P('i'|'<s>')"
      ],
      "execution_count": 48,
      "outputs": [
        {
          "output_type": "execute_result",
          "data": {
            "text/plain": [
              "0.16666666666666666"
            ]
          },
          "metadata": {},
          "execution_count": 48
        }
      ]
    },
    {
      "cell_type": "code",
      "metadata": {
        "id": "0db5ffc8-61bf-4bd1-bea6-a5f7cd704896",
        "colab": {
          "base_uri": "https://localhost:8080/"
        },
        "outputId": "d8f4d31a-e970-4e7d-954d-f6ef77ecb756"
      },
      "source": [
        "model_smoothed.score('read', 'i'.split()) # P('read'|'i')"
      ],
      "execution_count": 49,
      "outputs": [
        {
          "output_type": "execute_result",
          "data": {
            "text/plain": [
              "0.2"
            ]
          },
          "metadata": {},
          "execution_count": 49
        }
      ]
    },
    {
      "cell_type": "code",
      "metadata": {
        "id": "f5792d73-6719-4ff9-98cd-80283e4dd1f9",
        "colab": {
          "base_uri": "https://localhost:8080/"
        },
        "outputId": "c3cb12e8-4c66-415f-8b7d-c40fa44f8f6e"
      },
      "source": [
        "model_smoothed.score('different', 'a'.split()) # P('different'|'a') "
      ],
      "execution_count": 50,
      "outputs": [
        {
          "output_type": "execute_result",
          "data": {
            "text/plain": [
              "0.16666666666666666"
            ]
          },
          "metadata": {},
          "execution_count": 50
        }
      ]
    },
    {
      "cell_type": "code",
      "metadata": {
        "id": "9f979fef-b9e5-4e6d-bbd8-ff84e27c794c",
        "colab": {
          "base_uri": "https://localhost:8080/"
        },
        "outputId": "d5e48f30-4dc3-47d8-e779-94f3cd1975fb"
      },
      "source": [
        "model_smoothed.score('book', 'different'.split()) # P('book'|'different')"
      ],
      "execution_count": 51,
      "outputs": [
        {
          "output_type": "execute_result",
          "data": {
            "text/plain": [
              "0.2"
            ]
          },
          "metadata": {},
          "execution_count": 51
        }
      ]
    },
    {
      "cell_type": "code",
      "metadata": {
        "id": "d6a7eaa0-e57f-4432-a30f-9db29a6f78e2",
        "colab": {
          "base_uri": "https://localhost:8080/"
        },
        "outputId": "3c8df910-f483-48de-85c0-2ed485353ed0"
      },
      "source": [
        "model_smoothed.score('my', 'book'.split()) # P('my'|'book')"
      ],
      "execution_count": 52,
      "outputs": [
        {
          "output_type": "execute_result",
          "data": {
            "text/plain": [
              "0.16666666666666666"
            ]
          },
          "metadata": {},
          "execution_count": 52
        }
      ]
    },
    {
      "cell_type": "code",
      "metadata": {
        "id": "b542fc5e-1576-4859-88f1-92d40fcd0a0d",
        "colab": {
          "base_uri": "https://localhost:8080/"
        },
        "outputId": "db3d737b-d950-4f08-8d3c-613e18084ad9"
      },
      "source": [
        "model_smoothed.score('mulan', 'my'.split()) # P('mulan'|'my')"
      ],
      "execution_count": 53,
      "outputs": [
        {
          "output_type": "execute_result",
          "data": {
            "text/plain": [
              "0.2"
            ]
          },
          "metadata": {},
          "execution_count": 53
        }
      ]
    },
    {
      "cell_type": "code",
      "metadata": {
        "id": "19eb048e-8b9e-4a42-bb03-71d1d19c964a",
        "colab": {
          "base_uri": "https://localhost:8080/"
        },
        "outputId": "dca28855-702c-402a-a6e7-d0934d6b4cf0"
      },
      "source": [
        "model_smoothed.score('</s>', 'mulan'.split()) # P('</s>'|'mulan')"
      ],
      "execution_count": 54,
      "outputs": [
        {
          "output_type": "execute_result",
          "data": {
            "text/plain": [
              "0.2"
            ]
          },
          "metadata": {},
          "execution_count": 54
        }
      ]
    },
    {
      "cell_type": "markdown",
      "metadata": {
        "id": "AywHUFWk7UVN"
      },
      "source": [
        "# Q3 Sentence Probabilities"
      ]
    },
    {
      "cell_type": "markdown",
      "metadata": {
        "id": "Sr9cc5RY_sJ6"
      },
      "source": [
        "## Unigram"
      ]
    },
    {
      "cell_type": "code",
      "metadata": {
        "colab": {
          "base_uri": "https://localhost:8080/"
        },
        "id": "ikjZFOoqUflz",
        "outputId": "4208c491-ef92-4763-adfb-995aaf1202a1"
      },
      "source": [
        "# P(He read a book)\n",
        "# = P (He) x P (read) x P (a) x P (book) \n",
        "model_smooth.score('he') * model_smooth.score('read') * model_smooth.score('a') * model_smooth.score('book')"
      ],
      "execution_count": 55,
      "outputs": [
        {
          "output_type": "execute_result",
          "data": {
            "text/plain": [
              "0.0005787037037037037"
            ]
          },
          "metadata": {},
          "execution_count": 55
        }
      ]
    },
    {
      "cell_type": "code",
      "metadata": {
        "colab": {
          "base_uri": "https://localhost:8080/"
        },
        "id": "4mCDmErNUl4R",
        "outputId": "74bcb7d8-f1bc-4e7d-bd7b-542d709477c6"
      },
      "source": [
        "# P(I read a different book)\n",
        "# = P (I) x P (read) x P (a) x P (different) x P (book)\n",
        "model_smooth.score('i') * model_smooth.score('read') * model_smooth.score('a') * model_smooth.score('different') * model_smooth.score('book')"
      ],
      "execution_count": 56,
      "outputs": [
        {
          "output_type": "execute_result",
          "data": {
            "text/plain": [
              "3.215020576131687e-05"
            ]
          },
          "metadata": {},
          "execution_count": 56
        }
      ]
    },
    {
      "cell_type": "code",
      "metadata": {
        "colab": {
          "base_uri": "https://localhost:8080/"
        },
        "id": "NbXR7mqkUs81",
        "outputId": "f26303c5-56a2-41a4-ebed-2c9253d74fff"
      },
      "source": [
        "# P(He read a book my Mulan)\n",
        "# = P (He) x P (read) x P (a) x P (book) x P (my) x P (Mulan)\n",
        "model_smooth.score('he') * model_smooth.score('read') * model_smooth.score('a') * model_smooth.score('book') * model_smooth.score('my') * model_smooth.score('mulan')"
      ],
      "execution_count": 57,
      "outputs": [
        {
          "output_type": "execute_result",
          "data": {
            "text/plain": [
              "4.0187757201646085e-06"
            ]
          },
          "metadata": {},
          "execution_count": 57
        }
      ]
    },
    {
      "cell_type": "markdown",
      "metadata": {
        "id": "gNVKTbE-71Ry"
      },
      "source": [
        "## Bigram"
      ]
    },
    {
      "cell_type": "code",
      "metadata": {
        "colab": {
          "base_uri": "https://localhost:8080/"
        },
        "id": "0zwElPMu7pe1",
        "outputId": "f05e970d-6b9b-4de9-9584-0cbd951e57c5"
      },
      "source": [
        "# P(<s> He read a book </s>)\n",
        "# = P (He | <s>) x P (read | He) x P (a | read) x P (book | a) x P (</s> | book)\n",
        "model_smoothed.score('he', '<s>'.split()) * model_smoothed.score('read', 'he'.split()) * model_smoothed.score('a', 'read'.split()) * model_smoothed.score('book', 'a'.split()) * model_smoothed.score('</s>', 'book'.split())"
      ],
      "execution_count": 58,
      "outputs": [
        {
          "output_type": "execute_result",
          "data": {
            "text/plain": [
              "0.0014204545454545453"
            ]
          },
          "metadata": {},
          "execution_count": 58
        }
      ]
    },
    {
      "cell_type": "code",
      "metadata": {
        "colab": {
          "base_uri": "https://localhost:8080/"
        },
        "id": "ZA1GavVl9vp4",
        "outputId": "6ea0ff47-8809-4723-e549-02f65d64fea3"
      },
      "source": [
        "# P(<s> I read a different book </s>)\n",
        "# = P (I | <s>) x P (read | I) x P (a | read) x P (different | a) x P (book | different) x P (</s> | book)\n",
        "model_smoothed.score('i', '<s>'.split()) * model_smoothed.score('read', 'i'.split()) * model_smoothed.score('a', 'read'.split()) * model_smoothed.score('different', 'a'.split()) * model_smoothed.score('book', 'different'.split()) * model_smoothed.score('</s>', 'book'.split()) "
      ],
      "execution_count": 59,
      "outputs": [
        {
          "output_type": "execute_result",
          "data": {
            "text/plain": [
              "9.259259259259257e-05"
            ]
          },
          "metadata": {},
          "execution_count": 59
        }
      ]
    },
    {
      "cell_type": "code",
      "metadata": {
        "colab": {
          "base_uri": "https://localhost:8080/"
        },
        "id": "PzjQx5x6-Z7e",
        "outputId": "1824ba9b-5160-4ea4-c06b-386cee1d705c"
      },
      "source": [
        "# P(<s> He read a book my Mulan </s>)\n",
        "# = P (He | <s>) x P (read | He) x P (a | read) x P (book | a) x P (my | book) x P (Mulan | my) x P (</s> | Mulan)\n",
        "model_smoothed.score('he', '<s>'.split()) * model_smoothed.score('read', 'he'.split()) * model_smoothed.score('a', 'read'.split()) * model_smoothed.score('book', 'a'.split()) * model_smoothed.score('my', 'book'.split()) * model_smoothed.score('mulan', 'my'.split()) * model_smoothed.score('</s>', 'mulan'.split())"
      ],
      "execution_count": 60,
      "outputs": [
        {
          "output_type": "execute_result",
          "data": {
            "text/plain": [
              "3.787878787878788e-05"
            ]
          },
          "metadata": {},
          "execution_count": 60
        }
      ]
    },
    {
      "cell_type": "markdown",
      "metadata": {
        "id": "3d072050-0b70-40de-bb2a-8f1219382012"
      },
      "source": [
        "# Q4 Sentiment Analysis"
      ]
    },
    {
      "cell_type": "markdown",
      "metadata": {
        "id": "737f2461-0ce6-4e48-80c8-69f2938d42cc"
      },
      "source": [
        "### Load Dataset"
      ]
    },
    {
      "cell_type": "code",
      "metadata": {
        "id": "40341822-00c4-48e3-87f3-1619740a5bfa"
      },
      "source": [
        "import pandas as pd\n",
        "data = pd.read_csv(\"/content/Musical_Instruments_Reviews.csv\")"
      ],
      "execution_count": 61,
      "outputs": []
    },
    {
      "cell_type": "code",
      "metadata": {
        "id": "2863080f-8c5a-4ca6-9354-86bb16d7b5cc",
        "colab": {
          "base_uri": "https://localhost:8080/",
          "height": 206
        },
        "outputId": "de51e3c6-2e67-40a7-fa5d-19749c9bfeb4"
      },
      "source": [
        "data.head()"
      ],
      "execution_count": 62,
      "outputs": [
        {
          "output_type": "execute_result",
          "data": {
            "text/html": [
              "<div>\n",
              "<style scoped>\n",
              "    .dataframe tbody tr th:only-of-type {\n",
              "        vertical-align: middle;\n",
              "    }\n",
              "\n",
              "    .dataframe tbody tr th {\n",
              "        vertical-align: top;\n",
              "    }\n",
              "\n",
              "    .dataframe thead th {\n",
              "        text-align: right;\n",
              "    }\n",
              "</style>\n",
              "<table border=\"1\" class=\"dataframe\">\n",
              "  <thead>\n",
              "    <tr style=\"text-align: right;\">\n",
              "      <th></th>\n",
              "      <th>Reviews</th>\n",
              "    </tr>\n",
              "  </thead>\n",
              "  <tbody>\n",
              "    <tr>\n",
              "      <th>0</th>\n",
              "      <td>Not much to write about here, but it does exac...</td>\n",
              "    </tr>\n",
              "    <tr>\n",
              "      <th>1</th>\n",
              "      <td>The product does exactly as it should and is q...</td>\n",
              "    </tr>\n",
              "    <tr>\n",
              "      <th>2</th>\n",
              "      <td>The primary job of this device is to block the...</td>\n",
              "    </tr>\n",
              "    <tr>\n",
              "      <th>3</th>\n",
              "      <td>Nice windscreen protects my MXL mic and preven...</td>\n",
              "    </tr>\n",
              "    <tr>\n",
              "      <th>4</th>\n",
              "      <td>This pop filter is great. It looks and perform...</td>\n",
              "    </tr>\n",
              "  </tbody>\n",
              "</table>\n",
              "</div>"
            ],
            "text/plain": [
              "                                             Reviews\n",
              "0  Not much to write about here, but it does exac...\n",
              "1  The product does exactly as it should and is q...\n",
              "2  The primary job of this device is to block the...\n",
              "3  Nice windscreen protects my MXL mic and preven...\n",
              "4  This pop filter is great. It looks and perform..."
            ]
          },
          "metadata": {},
          "execution_count": 62
        }
      ]
    },
    {
      "cell_type": "markdown",
      "metadata": {
        "id": "2f1c4786-8e8f-4359-b6fd-b0caf3157dcc"
      },
      "source": [
        "### Predict the sentiments using unsupervised technique - NLTK VADER"
      ]
    },
    {
      "cell_type": "code",
      "metadata": {
        "id": "bb1bc577-2dac-4b6a-a9c9-59b7d761a9a1",
        "colab": {
          "base_uri": "https://localhost:8080/"
        },
        "outputId": "d36662de-b0ef-4af1-d6d4-297c6f3d707f"
      },
      "source": [
        "import nltk\n",
        "nltk.download('vader_lexicon')\n",
        "nltk.download('punkt')"
      ],
      "execution_count": 63,
      "outputs": [
        {
          "output_type": "stream",
          "name": "stdout",
          "text": [
            "[nltk_data] Downloading package vader_lexicon to /root/nltk_data...\n",
            "[nltk_data] Downloading package punkt to /root/nltk_data...\n",
            "[nltk_data]   Package punkt is already up-to-date!\n"
          ]
        },
        {
          "output_type": "execute_result",
          "data": {
            "text/plain": [
              "True"
            ]
          },
          "metadata": {},
          "execution_count": 63
        }
      ]
    },
    {
      "cell_type": "code",
      "metadata": {
        "id": "e042ac55-003a-441d-96ba-dd7a51a49e97"
      },
      "source": [
        "from nltk.sentiment.vader import SentimentIntensityAnalyzer\n",
        "\n",
        "sentiment = SentimentIntensityAnalyzer() #Create SentimentIntensityAnalyzer object\n",
        "\n",
        "def get_sentiments(sentence):    \n",
        "    outcome = sentiment.polarity_scores(sentence)\n",
        "    \n",
        "    if outcome['compound'] == 0:\n",
        "        return 'Neutral'\n",
        "    elif outcome['compound'] > 0:\n",
        "        return 'Positive'\n",
        "    else:\n",
        "        return 'Negative'"
      ],
      "execution_count": 64,
      "outputs": []
    },
    {
      "cell_type": "code",
      "metadata": {
        "id": "bae8bc4e-430a-47b4-8ac3-d33fb1695306"
      },
      "source": [
        "data['Sentiments'] = data.apply(lambda x: get_sentiments(x['Reviews']), axis = 1)"
      ],
      "execution_count": 65,
      "outputs": []
    },
    {
      "cell_type": "code",
      "metadata": {
        "id": "c67161a5-7575-4239-a6e5-8e6c81fa8da3",
        "colab": {
          "base_uri": "https://localhost:8080/"
        },
        "outputId": "e92eac0e-bebd-4c7c-ae59-656ac5a88036"
      },
      "source": [
        "data['Sentiments'].value_counts()"
      ],
      "execution_count": 66,
      "outputs": [
        {
          "output_type": "execute_result",
          "data": {
            "text/plain": [
              "Positive    9059\n",
              "Negative    1007\n",
              "Neutral      188\n",
              "Name: Sentiments, dtype: int64"
            ]
          },
          "metadata": {},
          "execution_count": 66
        }
      ]
    },
    {
      "cell_type": "code",
      "metadata": {
        "id": "64b9d466-b86a-474e-8528-6ab9aaeda9f1",
        "colab": {
          "base_uri": "https://localhost:8080/",
          "height": 311
        },
        "outputId": "9cea4e5f-0b08-49f6-db4e-daf93744fdd7"
      },
      "source": [
        "import matplotlib.pyplot as plt\n",
        "data['Sentiments'].value_counts().plot(kind='bar', rot=0)\n",
        "plt.xlabel(\"Sentiments\", labelpad = 15)\n",
        "plt.ylabel(\"Count\", labelpad = 15)\n",
        "plt.title(\"Count of Sentiments Obtained from NLTK VADER\", y = 1.02);"
      ],
      "execution_count": 67,
      "outputs": [
        {
          "output_type": "display_data",
          "data": {
            "image/png": "[encoded data removed]",
            "text/plain": [
              "<Figure size 432x288 with 1 Axes>"
            ]
          },
          "metadata": {
            "needs_background": "light"
          }
        }
      ]
    },
    {
      "cell_type": "markdown",
      "metadata": {
        "id": "ecb574bc-b556-4322-a244-eee307c86342"
      },
      "source": [
        "### Export DataFrame to CSV file"
      ]
    },
    {
      "cell_type": "code",
      "metadata": {
        "id": "ae0fe1f9-53ff-4caa-a591-88a0d3626e9a"
      },
      "source": [
        "output_loc = r'/content/Musical_Instruments_Reviews_Updated.csv'\n",
        "data.to_csv(output_loc, index = False)"
      ],
      "execution_count": 68,
      "outputs": []
    },
    {
      "cell_type": "markdown",
      "metadata": {
        "id": "wR2HRc9oZ7cP"
      },
      "source": [
        "### Text Classification - Naive Bayes"
      ]
    },
    {
      "cell_type": "code",
      "metadata": {
        "colab": {
          "base_uri": "https://localhost:8080/",
          "height": 206
        },
        "id": "1NYm19KTZ1wq",
        "outputId": "e0f5c893-eb27-4012-d286-672a5aa0471c"
      },
      "source": [
        "new_data = pd.read_csv(\"/content/Musical_Instruments_Reviews_Updated.csv\")\n",
        "new_data.head()"
      ],
      "execution_count": 69,
      "outputs": [
        {
          "output_type": "execute_result",
          "data": {
            "text/html": [
              "<div>\n",
              "<style scoped>\n",
              "    .dataframe tbody tr th:only-of-type {\n",
              "        vertical-align: middle;\n",
              "    }\n",
              "\n",
              "    .dataframe tbody tr th {\n",
              "        vertical-align: top;\n",
              "    }\n",
              "\n",
              "    .dataframe thead th {\n",
              "        text-align: right;\n",
              "    }\n",
              "</style>\n",
              "<table border=\"1\" class=\"dataframe\">\n",
              "  <thead>\n",
              "    <tr style=\"text-align: right;\">\n",
              "      <th></th>\n",
              "      <th>Reviews</th>\n",
              "      <th>Sentiments</th>\n",
              "    </tr>\n",
              "  </thead>\n",
              "  <tbody>\n",
              "    <tr>\n",
              "      <th>0</th>\n",
              "      <td>Not much to write about here, but it does exac...</td>\n",
              "      <td>Positive</td>\n",
              "    </tr>\n",
              "    <tr>\n",
              "      <th>1</th>\n",
              "      <td>The product does exactly as it should and is q...</td>\n",
              "      <td>Positive</td>\n",
              "    </tr>\n",
              "    <tr>\n",
              "      <th>2</th>\n",
              "      <td>The primary job of this device is to block the...</td>\n",
              "      <td>Negative</td>\n",
              "    </tr>\n",
              "    <tr>\n",
              "      <th>3</th>\n",
              "      <td>Nice windscreen protects my MXL mic and preven...</td>\n",
              "      <td>Positive</td>\n",
              "    </tr>\n",
              "    <tr>\n",
              "      <th>4</th>\n",
              "      <td>This pop filter is great. It looks and perform...</td>\n",
              "      <td>Positive</td>\n",
              "    </tr>\n",
              "  </tbody>\n",
              "</table>\n",
              "</div>"
            ],
            "text/plain": [
              "                                             Reviews Sentiments\n",
              "0  Not much to write about here, but it does exac...   Positive\n",
              "1  The product does exactly as it should and is q...   Positive\n",
              "2  The primary job of this device is to block the...   Negative\n",
              "3  Nice windscreen protects my MXL mic and preven...   Positive\n",
              "4  This pop filter is great. It looks and perform...   Positive"
            ]
          },
          "metadata": {},
          "execution_count": 69
        }
      ]
    },
    {
      "cell_type": "code",
      "metadata": {
        "colab": {
          "base_uri": "https://localhost:8080/"
        },
        "id": "5_h2aUC8aYIU",
        "outputId": "1572b46c-6900-4570-cd08-123c90880078"
      },
      "source": [
        "print(\"Number of Records: \" , len(new_data))"
      ],
      "execution_count": 70,
      "outputs": [
        {
          "output_type": "stream",
          "name": "stdout",
          "text": [
            "Number of Records:  10254\n"
          ]
        }
      ]
    },
    {
      "cell_type": "code",
      "metadata": {
        "id": "Q5IHxMuGao7f",
        "colab": {
          "base_uri": "https://localhost:8080/",
          "height": 275
        },
        "outputId": "8c0868b6-2cf7-4137-97e4-585813afe39e"
      },
      "source": [
        "# Text-preprocessing\n",
        "import nltk, string\n",
        "from nltk.tokenize import word_tokenize\n",
        "from nltk.stem import WordNetLemmatizer\n",
        "nltk.download('stopwords')\n",
        "nltk.download('wordnet')\n",
        "\n",
        "# Decapitalize the words\n",
        "new_data['Reviews'] = new_data['Reviews'].apply(lambda x: x.lower())\n",
        "\n",
        "# Punctuation removal\n",
        "def remove_punctuation(text):\n",
        "    text_clean = \"\".join(([i for i in text if i not in string.punctuation]))\n",
        "    return text_clean\n",
        "\n",
        "# Create new column for cleaned reviews\n",
        "new_data['cleaned_Reviews']= new_data['Reviews'].apply(lambda x:remove_punctuation(x))\n",
        "\n",
        "# Tokenization\n",
        "def tokenization(text):\n",
        "  wordtokens = nltk.tokenize.word_tokenize(text)\n",
        "  return wordtokens\n",
        "\n",
        "# Overwrite cleaned reviews after tokenization\n",
        "new_data['cleaned_Reviews'] = new_data['cleaned_Reviews'].apply(lambda x: tokenization(x))\n",
        "\n",
        "# Stopwords removal\n",
        "stopTokens = nltk.corpus.stopwords.words(\"english\")\n",
        "stopTokens.remove('not') #'not' is important for sentiment analysis. Thus it will be removed from stopwords list\n",
        "\n",
        "def remove_stopwords(text):\n",
        "    output= [i for i in text if i not in stopTokens]\n",
        "    return output\n",
        "\n",
        "# Overwrite cleaned reviews after stopwords removal\n",
        "new_data['cleaned_Reviews']= new_data['cleaned_Reviews'].apply(lambda x:remove_stopwords(x))\n",
        "\n",
        "\n",
        "# Lemmatization\n",
        "def lemmatization(text):\n",
        "  wn = WordNetLemmatizer()\n",
        "  output = \" \".join([wn.lemmatize(t) for t in text])\n",
        "  return output\n",
        "\n",
        "# Overwrite cleaned reviews after lemmatization\n",
        "new_data['cleaned_Reviews'] = new_data['cleaned_Reviews'].apply(lambda x: lemmatization(x))\n",
        "new_data.head()"
      ],
      "execution_count": 71,
      "outputs": [
        {
          "output_type": "stream",
          "name": "stdout",
          "text": [
            "[nltk_data] Downloading package stopwords to /root/nltk_data...\n",
            "[nltk_data]   Unzipping corpora/stopwords.zip.\n",
            "[nltk_data] Downloading package wordnet to /root/nltk_data...\n",
            "[nltk_data]   Unzipping corpora/wordnet.zip.\n"
          ]
        },
        {
          "output_type": "execute_result",
          "data": {
            "text/html": [
              "<div>\n",
              "<style scoped>\n",
              "    .dataframe tbody tr th:only-of-type {\n",
              "        vertical-align: middle;\n",
              "    }\n",
              "\n",
              "    .dataframe tbody tr th {\n",
              "        vertical-align: top;\n",
              "    }\n",
              "\n",
              "    .dataframe thead th {\n",
              "        text-align: right;\n",
              "    }\n",
              "</style>\n",
              "<table border=\"1\" class=\"dataframe\">\n",
              "  <thead>\n",
              "    <tr style=\"text-align: right;\">\n",
              "      <th></th>\n",
              "      <th>Reviews</th>\n",
              "      <th>Sentiments</th>\n",
              "      <th>cleaned_Reviews</th>\n",
              "    </tr>\n",
              "  </thead>\n",
              "  <tbody>\n",
              "    <tr>\n",
              "      <th>0</th>\n",
              "      <td>not much to write about here, but it does exac...</td>\n",
              "      <td>Positive</td>\n",
              "      <td>not much write exactly supposed filter pop sou...</td>\n",
              "    </tr>\n",
              "    <tr>\n",
              "      <th>1</th>\n",
              "      <td>the product does exactly as it should and is q...</td>\n",
              "      <td>Positive</td>\n",
              "      <td>product exactly quite affordablei not realized...</td>\n",
              "    </tr>\n",
              "    <tr>\n",
              "      <th>2</th>\n",
              "      <td>the primary job of this device is to block the...</td>\n",
              "      <td>Negative</td>\n",
              "      <td>primary job device block breath would otherwis...</td>\n",
              "    </tr>\n",
              "    <tr>\n",
              "      <th>3</th>\n",
              "      <td>nice windscreen protects my mxl mic and preven...</td>\n",
              "      <td>Positive</td>\n",
              "      <td>nice windscreen protects mxl mic prevents pop ...</td>\n",
              "    </tr>\n",
              "    <tr>\n",
              "      <th>4</th>\n",
              "      <td>this pop filter is great. it looks and perform...</td>\n",
              "      <td>Positive</td>\n",
              "      <td>pop filter great look performs like studio fil...</td>\n",
              "    </tr>\n",
              "  </tbody>\n",
              "</table>\n",
              "</div>"
            ],
            "text/plain": [
              "                                             Reviews  ...                                    cleaned_Reviews\n",
              "0  not much to write about here, but it does exac...  ...  not much write exactly supposed filter pop sou...\n",
              "1  the product does exactly as it should and is q...  ...  product exactly quite affordablei not realized...\n",
              "2  the primary job of this device is to block the...  ...  primary job device block breath would otherwis...\n",
              "3  nice windscreen protects my mxl mic and preven...  ...  nice windscreen protects mxl mic prevents pop ...\n",
              "4  this pop filter is great. it looks and perform...  ...  pop filter great look performs like studio fil...\n",
              "\n",
              "[5 rows x 3 columns]"
            ]
          },
          "metadata": {},
          "execution_count": 71
        }
      ]
    },
    {
      "cell_type": "code",
      "metadata": {
        "id": "LtIqDCgXhNn9"
      },
      "source": [
        "# Convert DataFrame to List\n",
        "feature_set = [(data_iter['cleaned_Reviews'], data_iter['Sentiments']) for index, data_iter in new_data.iterrows()]"
      ],
      "execution_count": 72,
      "outputs": []
    },
    {
      "cell_type": "code",
      "metadata": {
        "colab": {
          "base_uri": "https://localhost:8080/"
        },
        "id": "Sv_QMWedhn7_",
        "outputId": "82a24d3a-8815-4aa9-f8e6-b6386eded554"
      },
      "source": [
        "feature_set[:5]"
      ],
      "execution_count": 73,
      "outputs": [
        {
          "output_type": "execute_result",
          "data": {
            "text/plain": [
              "[('not much write exactly supposed filter pop sound recording much crisp one lowest price pop filter amazon might well buy honestly work despite pricing',\n",
              "  'Positive'),\n",
              " ('product exactly quite affordablei not realized double screened arrived even better expectedas added bonus one screen carry small hint smell old grape candy used buy reminiscents sake not stop putting pop filter next nose smelling recording dif needed pop filter work well expensive one may even come pleasing aroma like mine didbuy product',\n",
              "  'Positive'),\n",
              " ('primary job device block breath would otherwise produce popping sound allowing voice pas noticeable reduction volume high frequency double cloth filter block pop let voice coloration metal clamp mount attache mike stand secure enough keep attached goose neck need little coaxing stay put',\n",
              "  'Negative'),\n",
              " ('nice windscreen protects mxl mic prevents pop thing gooseneck marginally able hold screen position requires careful positioning clamp avoid sagging',\n",
              "  'Positive'),\n",
              " ('pop filter great look performs like studio filter youre recording vocal eliminate pop get recorded sing',\n",
              "  'Positive')]"
            ]
          },
          "metadata": {},
          "execution_count": 73
        }
      ]
    },
    {
      "cell_type": "code",
      "metadata": {
        "id": "QzTs0IG21OuG"
      },
      "source": [
        "from nltk.tokenize import word_tokenize\n",
        "\n",
        "# Perform tokenization\n",
        "all_words = [word_tokenize(feature_set[sentence][0]) for sentence in range(len(feature_set))]\n",
        "# Merge all lists together into 1 list\n",
        "all_words = sum(all_words, [])"
      ],
      "execution_count": 74,
      "outputs": []
    },
    {
      "cell_type": "code",
      "metadata": {
        "colab": {
          "base_uri": "https://localhost:8080/"
        },
        "id": "82JK7acd-vrh",
        "outputId": "e8eb3cb2-f174-4dc2-94c8-5fb69fa36441"
      },
      "source": [
        "# Count of all words in the text corpus\n",
        "print('total words in the text corpus: ', len(all_words))"
      ],
      "execution_count": 75,
      "outputs": [
        {
          "output_type": "stream",
          "name": "stdout",
          "text": [
            "total words in the text corpus:  479819\n"
          ]
        }
      ]
    },
    {
      "cell_type": "code",
      "metadata": {
        "id": "9AVttbRr--aE",
        "colab": {
          "base_uri": "https://localhost:8080/"
        },
        "outputId": "26a312d4-188a-4224-e076-0814d35dafc7"
      },
      "source": [
        "all_words = nltk.FreqDist(all_words)\n",
        "print('Total vocabularies: ', len(all_words))"
      ],
      "execution_count": 76,
      "outputs": [
        {
          "output_type": "stream",
          "name": "stdout",
          "text": [
            "Total vocabularies:  29650\n"
          ]
        }
      ]
    },
    {
      "cell_type": "code",
      "metadata": {
        "colab": {
          "base_uri": "https://localhost:8080/"
        },
        "id": "8QrXk0C9_GyZ",
        "outputId": "e23b12c1-c1e4-41be-940d-3a337259d33f"
      },
      "source": [
        "# Top 15 most commmon words exist in the text corpus\n",
        "all_words.most_common(15)"
      ],
      "execution_count": 77,
      "outputs": [
        {
          "output_type": "execute_result",
          "data": {
            "text/plain": [
              "[('guitar', 6651),\n",
              " ('not', 5888),\n",
              " ('one', 4749),\n",
              " ('sound', 4560),\n",
              " ('string', 4500),\n",
              " ('great', 3979),\n",
              " ('like', 3929),\n",
              " ('use', 3708),\n",
              " ('good', 3683),\n",
              " ('pedal', 3585),\n",
              " ('work', 3060),\n",
              " ('well', 3016),\n",
              " ('get', 2927),\n",
              " ('would', 2360),\n",
              " ('amp', 2352)]"
            ]
          },
          "metadata": {},
          "execution_count": 77
        }
      ]
    },
    {
      "cell_type": "code",
      "metadata": {
        "colab": {
          "base_uri": "https://localhost:8080/"
        },
        "id": "4hScT1oL_1LY",
        "outputId": "cb739abf-b2cf-42e9-9547-293c2f1f7945"
      },
      "source": [
        "# Get 3000 words\n",
        "word_features = list(all_words)[:3000]\n",
        "print(word_features)"
      ],
      "execution_count": 78,
      "outputs": [
        {
          "output_type": "stream",
          "name": "stdout",
          "text": [
            "['not', 'much', 'write', 'exactly', 'supposed', 'filter', 'pop', 'sound', 'recording', 'crisp', 'one', 'lowest', 'price', 'amazon', 'might', 'well', 'buy', 'honestly', 'work', 'despite', 'pricing', 'product', 'quite', 'affordablei', 'realized', 'double', 'screened', 'arrived', 'even', 'better', 'expectedas', 'added', 'bonus', 'screen', 'carry', 'small', 'hint', 'smell', 'old', 'grape', 'candy', 'used', 'reminiscents', 'sake', 'stop', 'putting', 'next', 'nose', 'smelling', 'dif', 'needed', 'expensive', 'may', 'come', 'pleasing', 'aroma', 'like', 'mine', 'didbuy', 'primary', 'job', 'device', 'block', 'breath', 'would', 'otherwise', 'produce', 'popping', 'allowing', 'voice', 'pas', 'noticeable', 'reduction', 'volume', 'high', 'frequency', 'cloth', 'let', 'coloration', 'metal', 'clamp', 'mount', 'attache', 'mike', 'stand', 'secure', 'enough', 'keep', 'attached', 'goose', 'neck', 'need', 'little', 'coaxing', 'stay', 'put', 'nice', 'windscreen', 'protects', 'mxl', 'mic', 'prevents', 'thing', 'gooseneck', 'marginally', 'able', 'hold', 'position', 'requires', 'careful', 'positioning', 'avoid', 'sagging', 'great', 'look', 'performs', 'studio', 'youre', 'vocal', 'eliminate', 'get', 'recorded', 'sing', 'good', 'bought', 'another', 'love', 'heavy', 'cord', 'gold', 'connector', 'bass', 'learned', 'last', 'night', 'coil', 'guess', 'read', 'instruction', 'carefully', 'harm', 'done', 'still', 'monster', 'cable', 'year', 'reason', 'lifetime', 'warranty', 'worth', 'alone', 'simple', 'fact', 'break', 'getting', 'replace', 'cost', 'use', 'run', 'output', 'pedal', 'chain', 'input', 'fender', 'amp', 'hook', 'board', 'thought', 'try', 'update', 'guitar', 'using', 'end', 'planet', 'wave', '1980s', 'found', 'jack', 'new', 'didnt', 'fit', 'strat', 'disappointed', 'return', 'stated', 'save', 'money', 'went', 'back', 'cablei', 'payed', '3000', 'eighty', 'around', '5000', 'im', 'pay', 'lot', 'daybut', 'havent', 'since', 'one20', 'plus', 'workingplanet', 'win', 'perfect', 'epiphone', 'sheraton', 'ii', 'constructed', 'several', 'never', 'problem', 'got', 'wanted', '90', 'degree', 'plug', 'make', 'best', 'doesnt', 'hurt', 'either', 'isnt', 'top', 'line', 'series', 'rig', 'time', 'cant', 'go', 'wrong', 'wide', 'array', 'including', 'initially', 'purchased', 'pair', 'ofmonster', 'rock', 'instrument', '21', 'foot', 'angled', 'straight', '14inch', 'plugto', 'keyboard', 'came', 'purchase', 'id', 'pinch', 'penny', 'glad', 'didi', 'compared', 'model', 'previously', 'aside', 'could', 'detect', 'difference', 'swapped', 'forth', 'ensuring', 'differencewhat', 'going', 'sure', 'higher', 'priced', 'sturdy', 'molded', 'stress', 'relief', 'seem', 'reliable', 'pricier', 'siblingbottom', 'compare', 'possible', 'making', 'decision', 'find', 'necessarily', 'equal', 'value', 'manufacturer', 'dont', 'really', 'often', 'rarely', 'see', 'organ', 'large', 'sustaining', 'playing', 'piano', 'appear', 'awkward', 'yamaha', 'ypt230', 'recommend', 'anyone', 'home', 'control', 'midi', 'wasnt', 'aware', 'option', 'smoothly', 'acoustic', 'always', 'feel', 'nowhere', 'closein', 'opinion', 'sustain', 'maudio', 'sp2', 'style', 'action', 'similar', 'choice', 'dollar', 'ive', 'fc5', 'taking', 'space', 'drawer', 'electric', 'length', 'sometimes', 'bit', 'long', 'mind', 'build', 'quality', 'know', 'gripe', 'sleeve', 'unscrewed', 'way', 'easily', 'requiring', 'tighten', 'oftensound', 'affected', 'color', 'cool', 'definitely', 'aloneit', 'looking', 'performas', 'sam', 'ash', 'packed', 'mailer', 'inside', 'box', 'roc', 'n', 'soc', 'shipping', 'team', 'worknever', 'complaint', 'thanks', '4', 'month', 'holding', 'pretty', 'seemingly', 'indestructable', 'made', 'electrician', 'friend', 'finally', 'gave', 'habit', 'noname', 'display', 'near', 'register', 'center', 'impulse', 'something', 'third', 'fourth', 'failed', 'light', 'decided', 'cheaper', 'terribly', 'hard', 'gear', 'tend', 'twisted', 'move', 'eventually', 'fail', 'midcable', 'spending', 'extra', 'durable', 'actually', '12', 'shipped', 'reasonably', '18', 'kind', 'limited', 'life', 'warantee', 'five', 'star', 'nicely', 'shippedincidentally', 'shielded', 'meant', 'connect', 'amplifier', 'speaker', 'cab', 'want', 'unshielded', 'purposeedit', '6', 'passed', 'functioning', 'without', 'issue', 'gone', 'significantly', 'although', 'highly', 'recommended', 'probably', 'hosa', 'adding', 'word', 'california', 'description', 'beach', 'boy', 'cheap', 'bent', 'badly', 'fault', 'consider', 'awhile', 'youll', 'hear', 'rattle', 'seems', 'retro', 'screw', 'black', 'rubber', 'welli', 'also', 'shorter', 'red', 'perfectly', 'thesis', 'practicing', 'others', 'easier', 'different', 'cutting', 'someone', 'accident', 'green', 'clear', 'lake', 'placid', 'blue', 'apple', 'tele', 'tends', 'lay', 'flat', 'floor', 'rockband', 'controller', 'profire', '2626', 'pro', 'tool', 'firm', 'solidly', 'reputable', 'branded', 'cablea', 'thin', 'side', 'seen', 'due', 'anything', 'couldnt', '5', 'prime', 'eligibility', 'searching', 'art', 'x15', 'across', '2', 'realize', 'happy', 'plastic', 'flawlessly', 'must', 'overestimated', 'wish', 'longer', 'connection', 'racked', 'module', 'budget', 'worry', 'uneven', 'detaches', 'hitch', 'trying', 'task', 'pin', 'config', 'correct', 'fine', 'xlr', 'affordable', 'heavily', 'madei', 'mixer', 'rack', 'everywherei', '5ft', 'measurement', 'worked', 'perfectlyyou', 'mobile', 'church', 'take', 'beating', 'strong', 'inexpensive', 'require', 'professionallevel', 'equipment', 'serf', 'purpose', 'satisfied', 'every', 'week', 'gig', 'solid', 'solder', 'joint', 'bang', 'buck', 'looked', 'specification', 'guessing', 'wire', '22', '24', 'awg', '10', 'touch', '20', 'inch', 'connected', 'solo', 'live', 'show', 'portastudio', 'spaghetti', 'trip', 'place', 'two', 'digitech', 'harmony', 'processor', 'required', 'operational', 'usually', 'obtainable', 'di', 'abused', 'mics', 'greatest', 'theyre', 'fast', 'many', 'broadcast', 'studioamazon', 'first', 'audio', 'video', 'computer', 'concert', 'lightinggood', 'music', 'decent', 'point', 'nothing', 'exceptional', 'indeed', 'range', 'market', 'returning', 'shouldve', 'known', 'son', 'experience', 'musician', 'brand', 'seeking', 'proper', 'replacementi', 'setup', 'includes', 'behringer', 'c1', 'condenser', 'microphone', 'xenyx', '302', 'excellentan', 'excellent', 'support', 'usage', 'tube', 'preamp', 'zero', 'far', 'fairly', 'weight', 'survived', 'plugging', 'unplugging', 'packing', 'practice', 'spacesill', 'review', 'ifwhen', 'realtively', 'patch', 'guitari', 'held', 'replacement', 'short', 'pleasantly', 'surprised', 'already', 'though', 'fortunately', 'phono', 'covered', 'white', 'shrink', 'noticed', 'hum', 'crackle', 'texture', 'stiff', 'tell', 'soldering', 'noise', 'satified', 'leave', 'house', 'asking', 'handle', 'reasonable', 'care', 'professional', 'ever', 'eric', 'clapton', 'expanding', 'collection', 'effect', 'additional', 'everything', '25', 'give', 'flexibility', 'stepped', 'pulled', 'aroundthe', 'cablehighly', 'recommendedcfh', 'expect', 'thickness', 'longterm', 'durability', 'signal', 'lossinterference', 'foresight', 'spend', 'couple', 'thicker', 'inexpensiveedit', 'later', 'dead', 'frayed', 'right', 'angle', 'daughter', 'along', 'think', 'soon', 'based', 'typically', 'play', 'hour', 'day', 'perform', 'buzz', 'andor', 'noted', 'performed', 'rugged', 'hosas', '1434', 'lug', 'heat', 'material', 'grade', 'ft', 'crappy', 'purchasing', 'shell', 'pedalboard', 'soundproof', 'clean', 'sounding', 'past', 'confidence', 'hopefully', 'usefull', 'second', 'item', 'say', 'maybe', 'taken', 'served', 'problemsreal', 'silicone', 'jacket', 'strain', 'die', 'notice', 'feeling', 'built', 'goodi', 'absolutely', 'cordvery', 'low', 'repairable', 'effective', 'releafthick', 'cover', 'cordof', 'course', 'itit', 'durableif', 'change', 'reviewfor', 'onejoe', 'stage', 'tangleing', 'fantastic', 'deal', 'multiple', 'jam', 'terminal', 'spring', 'arent', 'road', 'size', 'jammin', 'aesthetically', 'totally', 'gtr210', '10ft', 'wont', 'bank', 'unbalanced', 'notoriously', 'noisy', 'especially', 'florescent', 'prefer', 'shielding', 'justify', 'expense', 'considering', 'basic', 'rubbery', 'arise', 'whatsoever', 'lasting', 'affect', 'negatively', 'prematurely', 'useful', 'spanthese', 'gooey', 'soft', 'mogami', 'working', 'reliably', '2534', 'diameter', 'eye', 'overwrap', 'add', 'strength', 'enters', 'plugi', 'internet', 'split', 'condition', 'weve', 'continuously', 'sincewe', 'dozen', 'particular', 'degradation', 'anyonei', 'frill', 'tangle', 'easy', 'design', 'considered', 'taught', 'afford', 'showed', 'search', 'jumped', 'figured', 'loseto', 'surprise', 'thick', 'inspires', 'identical', 'quarter', 'pricehmmmm', 'tried', 'figure', 'instead', 'listening', '34snobs34', 'againthis', 'twice', 'kiss', 'overpriced', 'goodbye', 'loose', 'tightened', 'coming', 'dab', 'crazy', 'glue', 'thread', 'hope', 'open', 'repair', 'fantasticthey', 'trust', 'key', 'meet', 'push', 'itset', 'plugged', 'andwho', 'knowsbut', 'seven', 'beginner', 'testing', 'watersotherwise', 'chance', 'stuff', 'exception', 'trusted', 'single', 'owned', 'thats', 'least', '15', 'plan', 'speak', 'unscrew', 'hardly', 'disproves', 'notion', 'outweighs', 'face', 'vary', 'greatly', 'replaced', 'lighter', 'ibanez', 'watt', 'set', 'changed', 'significant', 'checked', 'teacher', 'said', 'appears', 'duty', 'proximity', 'attenuated', 'inconsequential', 'greathosa', 'band', 'feedback', 'performing', 'unless', 'chord', 'medium', 'sized', 'venue', 'neverhad', 'themi', 'active', 'throughthe', 'rigger', 'happens', 'comment', 'thistype', 'usagein', '40', 'thatyou', 'string', 'aseven', '3', 'flexible', 'develop', 'kink', 'bending', 'roll', 'wayive', 'certainly', 'worse', 'sweet', 'spot', 'procheapo', 'hated', 'gummylike', 'drop', 'else', '100', 'almost', 'plenty', 'room', 'recieved', 'bad', '50', 'guy', 'havnt', 'yet', 'leaf', 'desired', 'structural', 'integrity', 'concerned', 'mating', 'part', 'jiggle', 'switch', '2mm', 'pressedi', 'critical', 'application', 'suited', 'hobby', 'connecting', 'directly', 'record', 'console', 'recomended', 'beta', '58', 'panasonic', 'g2', 'dslr', 'kodak', 'zi8', 'interview', 'trs', 'received', 'expected', 'adapter', 'construction', 'superb', 'digital', 'recorder', 'pcit', 'handy', 'type', 'recordersbut', 'forget', 'hooking', 'pc', 'canon', 'vixia', 'hf', 'g10', 'camera', 'shotgun', 'recently', '1234', 'mounted', 'mini', 'advanced', 'shoe', 'camerathe', '1', 'actual', '834', 'returned', 'hassle', 'rated', 'nikon', 'd3200', 'ok', 'tight', 'there', 'wireid', 'worst', 'case', 'scenario', 'ziptie', 'loop', 'angry', 'fitalso', 'hiss', 'unsure', 'stretched', 'max', 'adaptor', 'real', 'listing', 'confusing', 'stereo', 'headphone', 'left', 'separate', 'configured', 'mono', 'balanced', 'fix', 'moving', 'ping', 'tie', 'ground', 'awarded', 'uniformly', 'connecter', 'mate', 'insert', 'componenti', 'specifically', 'transform', 'channel', 'mypowerwerks', 'personal', 'pa', 'systeminto', 'useable', 'expands', 'functionality', 'versatility', 'portable', 'three', 'unit', 'daisychained', 'enhance', 'entire', 'system', 'adapteranother', 'free', 'environment', 'source', 'electromagnetic', 'interference', 'pick', 'transmit', 'plusoverall', 'pleased', 'spare', 'damage', 'lose', 'peace', 'premium', 'podium', 'zoom', 'h1', 'instrumental', 'capturing', 'event', 'visual', 'check', 'sinlge', 'splitter', 'dv', 'function', 'caveatsfirst', 'mean', 'gentle', 'none', 'u', 'production', 'field', 'beat', 'upsecond', 'reach', 'wherever', 'extend', 'adapterso', 'shop', 'however', 'd800', 'usual', 'expectedto', 'tested', 'h4', 'recorderseems', 'inputno', 'big', 'minor', 'post', 'company', 'keyboardsmy', 'convert', 'true', 'eq', 'properly', 'charm', 'slightly', 'zip', 'stretch', 'ordered', 'expecting', 'whole', 'nearly', '10foot', 'turn', 'flimsy', 'waited', 'static', 'explain', 'receptacle', 'introduction', 'discernible', 'loss', 'brilliant', 'reviewer', 'wondering', 'economical', 'judgment', 'count', 'among', 'werent', 'become', 'convinced', 'charge', 'sendreturns', 'send', 'tip', 'ring', 'common', '14', 'tr', 'in', 'outsthis', 'hookup', 'sharkbehringer', 'shark', 'fbq100', 'automatic', 'destroyerto', '1202vlz3s', 'sendreturnsmackie', '1202vlz3', '12ch', 'compact', 'recordingsr', 'mixeri', 'order', 'sendreturn', 'operate', 'analog', '8', 'compression', 'limiter', 'gate', 'expander', 'various', 'routed', 'applied', 'specific', 'snake', 'individual', 'differing', 'lifesaver', 'efficient', 'soundman', 'complaintson', 'note', 'caig', 'deoxit', 'g5', 'spray', 'contact', 'conditioner', 'ozand', 'hightly', 'differnce', 'qtip', 'cablewe', 'custom', 'manufacture', 'soundreinforcement', 'fixed', 'installation', 'processing', 'simply', 'goto', 'reliability', 'reputation', 'stakehosa', 'allows', 'maintain', 'lowering', 'labor', 'dependable', 'ipod', 'wake', 'kid', 'needing', 'lepai', 'ipodsiphones', 'anyway', 'stereotomono', 'solution', 'bag', 'phone', 'auxinput', 'genz', 'benz', 'head', 'rehearsal', 'listen', 'track', 'arrangement', 'full', 'fearful', '1561', 'picking', '1834', 'seemed', 'hand', 'super', 'sufficient', 'gauge', 'forgiven', 'etcfor', 'intent', '5star', 'fair', 'ultra', 'yes', 'wrote', 'reviewed', 'electron', 'complete', 'failure', 'away', 'picked', 'test', 'happier', 'suck', 'tone', 'normal', 'l', 'paid', 'fineim', 'jump', 'httpwwwamazoncomgpproductb001pgxkc8refohdetailso04s00i02ieutf8psc1', 'listed', 'whereas', 'emergency', 'upto', 'conclude', 'recommendation', 'farther', 'deliver', 'ask', 'interconnect', 'hasnt', 'given', 'stomp', 'con', 'badno', 'opening', 'people', 'movement', 'wear', 'distance', 'bue', 'generally', 'distortion', 'paddle', 'ampdo', 'favor', 'threw', 'dealer', 'placed', 'onlinecarstereocom', 'report', 'scam', 'operation', 'credit', 'card', 'cotheir', 'customer', 'terrible', 'mistake', 'placing', 'orderright', 'reliableive', 'yearsand', 'player', 'mail', 'level', 'performance', 'form', 'forsee', 'together', 'eithout', 'mesws', 'fanciest', 'anytime', 'fails', 'link', 'stompboxes', 'crackly', 'frequent', 'within', 'guitarist', 'stock', 'accessible', 'twelve', 'themenjoy', 'fan', 'lower', 'profile', 'bend', 'hoping', 'funky', 'discovered', 'situation', 'interfacemix', 'monitor', 'female', 'create', 'buying', 'adapt', 'hence', 'p', 'matter', 'definately', 'happen', 'ion', 'shure', 'z108net', 'title', 'took', 'stuck', 'force', 'besides', 'sm57', 'male', 'converter', 'bulky', 'clip', 'onto', 'fitting', 'certain', 'overall', 'perhaps', 'impedance', 'local', 'store', 'regular', 'keyboardpractice', 'lead', 'foh', 'power', 'began', 'transformer', 'isolated', 'started', 'bigger', 'cause', 'stick', 'singer', 'close', 'horizontally', 'funny', 'vertical', 'reproduced', 'recomed', 'everyone', 'tascam', 'dr40', 'step', 'postproduction', 'wouldnt', 'important', 'coordinator', 'believe', 'radioshack', 'business', 'lady', 'gentleman', 'apply', 'themregardsffsalsa', 'ended', 'dual', 'shoot', 'wedding', 'half', 'dj', 'introdustions', 'speaking', 'hot', 'crap', 'stupid', 'edit', 'compress', 'improved', 'beyond', 'sold', 'wireless', 'engineer', 'genzbenz', 'amplification', 'andy', 'superior', 'scratchy', 'potentiometer', 'shuttle', '60', 'oxidized', 'causing', 'intermittently', 'resolved', 'lubricating', 'cleaning', 'coating', 'component', 'wow', 'affiliation', 'represent', 'magic', 'hahseriously', 'hinge', 'car', 'door', 'etci', 'pot', 'knob', 'rid', 'radio', 'example', 'restored', 'soundpower', 'clearity', 'ampsit', 'evaporate', 'minute', 'deoxitnot', 'name', 'remember', 'le', 'military', 'wasteful', 'luck', 'wd40', 'flammable', 'call', 'average', 'tech', '95', 'cut', 'spraying', 'pushing', 'socket', 'hundred', 'electronic', 'musical', 'fx', 'etc', 'start', 'suffering', 'etcin', 'locktite', 'electronics', 'cleaner', 'provided', 'workin', 'contrast', 'cleaned', 'piece', 'saving', 'physically', 'error', 'printer', 'cartridge', 'recognized', 'sprayed', 'wiped', 'excess', 'paper', 'towel', 'scratchiness', 'jarring', 'spike', 'glide', 'ill', 'stuffi', 'sooner', 'brillcream', 'yasomething', 'coin', 'mesa', 'boogie', 'developed', 'yearsthis', 'midrange', 'starting', 'againi', 'hate', 'tear', 'chassis', 'itd', 'ta', 'cracklefeels', 'oily', 'replacethe', 'alot', 'crackling', '34scratchy34', 'karaoke', 'truly', 'saw', 'madevery', 'moneycant', 'cheep', 'missing', 'onoff', 'freelancer', 'occasionally', 'midwest', 'nearweekly', 'basis', 'seasoned', 'veteran', 'interest', 'per', 'se', 'cachet', 'group', 'nady', 'lowerpriced', 'ago', 'insisting', 'sm57s', '58s', 'workmanship', 'casual', 'empirical', 'prove', 'nadys', 'announcing', 'softer', 'flute', 'harmonica', 'broken', 'quit', 'watchim', 'keyboardist', 'fidelity', 'trifle', 'mortified', 'audience', 'catch', 'allimportant', 'embarrassment', 'confess', 'unmixed', 'demonic', 'glee', 'who', 'playingand', 'seeing', 'grandson', 'handling', 'machine', 'thinking', 'sp4c', 'impressive', 'roland', 'cm30', 'cube', 'micro', 'currently', 'canare', 'resolder', 'complicated', 'iti', 'mistreat', 'narrower', 'cagy', 'eg', 'running', 'belt', 'pack', 'micsthe', 'pronounced', 'butyl', 'activated', 'allergy', 'stored', 'cardboard', 'help', 'folksbut', 'monthstheyre', 'impressed', 'workout', 'gls', 'lacking', 'gain', 'speech', 'sm58s', 'pg48', 'sm58', 'capability', 'digitally', 'idea', 'learning', 'process', 'reproduction', 'flaw', 'exchange', 'website', 'podcasting', 'whats', 'included', 'tune', 'duo', 'trio', 'drum', 'club', 'basically', 'pyle', 'self', 'contained', 'martin', 'grp', 'elecacoustic', 'bny', 'hesitation', 'heard', 'plusthe', '3699', 'paying', '3234', 'toshiba', '230', 'bringing', 'elctronics', 'strongly', 'backup', 'package', 'honest', 'standard', 'measured', 'deserved', 'pg58s', 'sm48', 'pg58', 'spec', 'pricethe', 'heavier', 'protecting', 'interchangeable', 'setting', 'singing', 'repeated', 'experiment', 'changing', 'mikesheres', 'flatter', 'mid', 'brighter', 'presence', 'slight', 'manipulated', 'ordinary', 'neither', 'susceptible', 'popi', 'comparison', 'consuming', 'interferes', 'difficulty', 'judge', 'combination', 'except', 'person', 'expressed', 'preference', 'settingsi', 'response', '10k', 'hz', 'db', 'pg', 'somewhere', 'human', '300', 'likely', 'tad', 'responsive', 'singeri', 'shack', '8500', 'outclassed', 'shures', 'tinny', '2000xm', 'similarity', 'b', '2000', 'sm', 'discontinued', '1800xm', 'inferior', 'offered', 'bundle', '50i', 'number', '333001', 'tonei', 'conclusionsthere', 'snobbery', 'choosing', 'unreachable', 'unreasonable', 'testi', 'unbiased', 'condescension', 'toward', 'alternative', 'bearer', 'giving', 'evaluation', 'worshippraise', 'song', 'southern', 'gospel', 'smooth', 'enhances', 'revise', 'somehow', '8900', 'pg58updatedecember', '2012the', 'acquired', 'ready', 'agree', 'argue', 'neumann', 'telefunken', 'costing', 'g', 'respect', 'sufficiently', 'highpowered', 'tweaked', 'mistaken', 'attempt', 'led', 'sounded', 'somewhat', 'muted', 'dull', 'switching', 'admittedly', 'crispness', 'clarity', 'announcementsps', 'larger', 'rise', 'workstation', 'garage', 'goldplated', 'expensivelooking', 'appearance', 'matterexcept', 'director', 'school', 'dispense', 'headset', 'wrap', 'halfway', 'knowing', 'girl', 'frontline', 'coolthey', 'madonnaa', 'janets', 'headgear', 'tiny', 'pinhole', 'proven', 'classic', 'mark', 'v', '1x12', 'cabinet', 'indestructiblelooking', 'forward', 'future', 'project', 'primarily', 'preferred', '1970', '545', 'unidyne', 'iii', 'stolen', 'remarkably', 'boosted', 'countless', 'modern', 'deep', 'baritone', 'closer', '7', '469', 'sm7', 'fragile', 'four', 'crisper', 'fuller', 'natural', 'muddy', 'muffled', 'shove', 'throat', 'benefit', 'dramatic', 'a2ws', 'genuine', 'precisely', 'lock', 'securely', 'mad', 'drawback', 'available', 'anywhere', 'youve', 'forgot', 'became', 'liability', 'generation', 'builtin', 'variable', 'predecessor', 'enduring', 'seriously', 'judgedno', 'kidding', 'conga', 'tablas', 'deliversi', 'president', 'therein', 'vocalist', 'pipe', 'lack', 'projection', 'wannabesfor', 'reinforcement', 'barnone', 'tom', 'petty', 'vox', 'heartbreaker', 'album', 'rest', 'perc', 'dropped', 'story', 'building', 'parking', 'barley', 'dented', 'housing', 'drummer', 'us', 'kit', 'told', 'haha', 'shame', 'ie', 'presentor', 'seies', 'garbage', 'dynamic', 'tailored', 'towards', '57', 'amateur', 'practitioner', 'operating', 'refuse', 'interchangeably', 'filling', 'snare', 'living', 'introduced', 'world', '1967', 'sm58lc', 'batman', 'status', 'relegating', 'robin', 'assessment', 'foam', 'lined', 'cage', 'electricallythe', 'designed', 'begin', 'increasing', 'capacity', 'cousin', 'slimmed', 'mostly', 'micing', 'excels', 'atone', 'role', 'official', 'press', 'conference', 'vip', 'bundled', 'kitshure', 'kityou', 'exact', 'usethe', 'extremely', 'tough', 'abuse', 'popular', 'touring', 'pricethere', 'performer', 'seriesshure', '57a', 'microphonethat', 'capsule', 'buybottom', 'awesome', 'overly', 'recordists', 'knocked', 'amount', 'micend', 'multitrack', 'teen', 'christmas', 'park', 'micgreat', 'needsi', 'industry', 'withstood', 'practicingi', '600', 'decide', 'result', 'hd', 'tv', 'bd', 'cd', 'compliment', 'user', 'exceeds', 'expectationsarrived', 'promised', 'frustration', 'hood', 'unwanted', 'dirt', 'spitthe', 'dent', 'body', 'transportation', 'continue', 'rusted', 'grill', 'd5', 'akg', 'rule', 'signature', 'ancestor', 'relative', '1968', 'broadcasting', 'spoken', 'content', 'vocalsthe', 'mouth', 'public', 'address', 'comfortable', 'resist', 'lip', 'weaker', 'sm58the', 'directional', 'manageable', 'increase', 'practically', 'ball', 'precious', 'colored', 'prominent', 'boost', 'upper', 'clearly', 'youd', 'sax', 'personally', 'technique', 'nature', 'depends', 'responseone', 'advantage', 'turned', 'louder', 'annoying', 'squeal', 'shaped', 'ten', 'rusty', 'dusty', 'smoked', 'spit', 'slammed', 'hardwood', 'boom', 'mass', 'fall', 'malfunction', 'itall', 'proline', 'ebay', 'senneheisers', 'evolution', 'onstage', 'foreseeable', 'follow', 'crowd', 'stopped', 'today', 'theyd', 'legendary', 'bout', 'nail', 'cheapie', 'intend', 'singingvocals', 'switched', 'depend', 'smoothness', 'reproduces', 'warm', 'wail', 'betweenthe', 'sm58cn', '25ft', 'pouch', 'miss', 'microphoneas', 'workhorse', 'crispy', 'robust', 'productalso', 'jr', 'supplier', 'expectedim', 'wonderful', 'addition', 'ballad', 'classical', 'upon', 'meeting', 'clearer', 'akgthe', 'modification', 'sensitive', 'd5however', 'immortal', 'john', 'cameron', 'swayze', 'hawking', 'timex', 'watch', 'early', 'television', 'categorybefore', 'career', 'film', 'recordist', 'played', 'mixing', 'fell', 'brother', '1966', 'quickly', 'rose', 'ear', 'indestructiblethe', 'cardiord', 'heart', 'reject', '4k', 'bump', '15000', 'sits', 'internally', 'shock', 'isolate', 'noisewe', 'joke', 'hammer', 'grab', 'greatthe', 'distinctive', 'influenced', 'layer', 'element', 'frame', 'reference', 'theshure', 'sm57lc', 'cardioid', 'microphoneis', 'screenshure', 'sell', '58a', 'supercardioid', 'buythe', 'forty', 'announcement', 'accommodate', 'guest', 'rather', 'whatever', 'oomph', 'peavey', 'employ', 'borrow', 'instant', 'dramaticits', 'producing', 'preamplification', 'demonstrating', 'fathom', 'avoiding', 'version', 'quick', 'pickup', 'private', 'indiscreet', 'member', 'instrumentalist', 'wiser', 'select', 'former', 'ostentatious', 'adaptable', 'wind', 'nonmusical', 'sherman', 'tank', 'unparalleled', 'ruggedness', 'durabilityi', 'cautioning', 'consumer', 'wary', 'seller', 'commerce', 'competitive', 'postage', 'populous', 'drone', 'invariably', 'firsthand', 'gettingreliability', 'virtual', 'indestructibility', 'popularity', 'imitator', 'flashier', 'prettier', 'moderner', 'nostalgic', 'marketing', 'claim', 'blowing', 'smoke', '34mic34', 'proved', 'gamblethis', 'meamateur', 'infrequent', 'setupteardownsits', 'locking', 'button', 'endim', 'blister', 'packaging', '45', '30', 'sent', 'email', 'till', 'soundboard', 'plain', 'simpleif', 'workbuy', 'technica', 'withstand', 'attachment', 'loosening', 'develops', 'threaded', 'cap', 'outside', 'slide', 'legged', 'gripper', 'underneath', 'outer', 'unfortunately', 'chose', 'award', 'rating', 'f', '1ftas', 'pinout', 'straightforward', 'tied', 'grip', 'shield', 'connects', 'chosen', 'lost', 'apart', 'bumper', 'interconnecting', 'temporary', 'arisesanother', 'favorite', 'mentioned', 'rush', 'yougls', '3ft', 'phase', 'lift', 'oddball', 'quibble', 'final', 'mixback', 'rewire', 'xlrs', 'booth', 'yell', 'stretcher', 'planned', 'movedquit', 'saved', 'torn', 'rewired', 'showingi', 'equipped', 'rca', 'hiz', 'access', 'mainly', 'solve', 'gaffer', 'tape', 'measure', 'prevent', 'tripping', 'hazard', '2ea', 'opened', 'permanent', '25mm', 't', 'misc', 'bin', 'judicial', 'miracle', 'painted', 'existance', 'owner', 'daughers', 'toy', 'musicbox', 'becomes', 'mix', 'magicmy', 'advice', 'deconstruct', 'doubt', 'thus', 'recreating', 'pulling', 'trick', 'solving', 'furthering', 'staff', 'violate', 'serve', 'reversed', 'lifted', 'duet', 'bar', 'pierced', 'kept', 'jewelry', 'chalked', 'intended', 'piercings', 'scraping', 'rehersal', 'assignment', 'rode', 'allowed', 'finished', 'independence', 'sea', 'itipa', 'impress', 'dot', 'com', 'consistent', 'quiet', 'condensor', 'session', 'sennheiser', 'e825', 'suitable', 'jamming', 'recommendedupdate', 'marked', 'regarded', 'relatively', 'tat', 'microscrewdriver', 'te', 'xperience', 'depending', 'semistationary', 'pricey', 'maneuverability', 'date', 'miniamp', 'encountered', 'lifei', 'suggest', 'colleague', 'packet', 'gator', 'wouldve', 'gotten', 'washer', 'protect', 'ahead', 'estimated', 'arrival', 'hole', 'presentation', '16u', 'described', 'pic', 'bugger', '2nd', 'washerscons', 'wait', 'shipid', '16', 'filled', 'mounting', 'invisible', 'rail', 'plate', 'finish', 'donr', 'fooled', 'imitation', 'slogan', 'junky', 'saver', 'desktop', '1032', 'mccoy', 'pan', 'narrow', 'raxxess', 'survives', 'censor', 'original', 'supplied', 'pant', 'airy', 'resonator', 'bright', 'drive', 'pinto', 'cadillac', 'standardgoto', 'vocalspecific', 'micbasically', 'muffledmuddy', 'beta58a', 'stronger', 'articulate', 'harsh', 'adjustable', 'tighter', 'claritypatternwise', 'rejecting', 'considerably', 'strapped', 'cash', 'dough', 'singerssong', 'leader', 'liked', 'growing', 'addtional', 'whoaaah', 'songleaders', 'anymore', 'staple', 'rightly', 'comparative', 'amazing', 'craftsmanship', 'alleviate', 'associated', 'confined', 'utilized', 'demonstrated', 'broader', 'completely', 'eliminated', 'severe', 'pull', 'sustained', 'dream', 'experiencing', 'sibilance', 'complication', 'opposed', 'itwhile', 'understanding', 'engineering', 'standpoint', 'technical', 'expounded', 'confidently', 'bottom', 'opportunity', 'demonstrate', 'superiority', 'six', 'general', 'throughout', 'country', 'commonly', 'theater', 'highend', 'recentlyi', 'definitetly', 'hotter', 'mids', 'subtle', 'rolloff', 'boomy', 'muddled', 'hitting', 'pattern', 'extraneous', 'effectively', 'rejectedbuilt', 'overused', 'describing', 'earn', 'enormous', 'falter', 'toss', 'bury', 'maintaining', 'bunch', 'bos', 'tr2', 'perceived', 'typical', 'tremolo', 'rehoused', 'enclosure', 'scared', 'breaking', 'saying', 'huge', 'dano', 'covering', 'imho', 'danos', 'cat', 'weak', 'bypass', 'sturdier', 'feature', 'bulletproof', 'trem', 'hey', 'cheapo', 'casing', 'versatile', 'comeand', 'combo', '500', 'me70', 'drying', 'tuna', 'melt', 'danelectro', 'stunning', 'ability', 'vintage', '1214', 'dissapointed', 'noisethen', 'lately', 'improve', 'skill', 'joy', 'rediscovering', 'themforget', 'fab', 'dan', 'echo', 'sorry', 'hello', 'musicfriends', 'studiosongwriting', 'tour', 'hidden', 'age', 'lush', 'trems', 'pleasure', 'inputoutput', 'located', 'capo', 'tuning', 'upside', 'partial', 'adjusting', 'downall', 'foreverkyser', 'christian', 'supporting', 'colour', 'confused', 'el', 'lesson', 'remove', 'triggertype', 'release', 'easiest', 'quickchange', 'lightweight', 'aluminum', 'takamine', 'jasmine', 's35', 'dothese', 'sucker', 'wonderfully', 'removable', 'damaged', 'neglect', 'keyser', 'nogreat', 'dunlopwhich', 'triedi', 'cheeper', 'casebut', 'fineand', 'madearrived', 'timeenjoy', 'camo', 'simplicity', 'unique', 'uke', 'manufactor', 'suggests', 'duration', 'pressure', 'camp', 'winding', '6string', 'kyser', '12string', 'notch', 'tension', 'squeeze', 'install', 'hurry', 'dosnt', 'mar', 'excessive', 'fret', 'headstock', 'allow', 'maximum', 'finger', 'buzzing', 'travel', 'lever', 'arm', 'coated', 'supple', 'caution', 'indent', 'permanently', 'cumbersome', 'difficult', 'breakable', 'convenient', 'cinch', 'corrode', 'tarnish', 'yearsvery', 'protected', 'scratch', 'nick', 'grasp', 'pink', 'match', 'currenty', 'shubb', 'weaknessesthe', 'quickest', 'adjustment', 'smallerthe', 'main', 'fretboard', 'necessary', 'faster', 'shubbs', 'baby', 'usegreat', 'thank', 'depresses', 'fully', 'longevity', 'satisfies', 'kyseryou', 'durablewhats', 'asa', 'transparent', 'jobit', 'alsoi', 'silver', 'caposi', 'stylesi', 'conditionsuse', 'child', 'teach', 'treated', 'rough', 'uncomfortable', 'rushed', 'unpleasant', 'itll', 'seated', 'originally', 'elastic', 'throw', 'correctly', 'repeat', 'adjust', 'stylish', 'bargain', 'compressing', 'grooved', 'sense', 'blk', 'remind', 'middle', 'wonder', 'tightly', 'tightyet', 'structured', 'dramatically', 'husband', 'usese', 'everytine', 'lasted', 'differenti', 'lazy', 'pegheadreaching', 'peghead', 'reaching', 'according', 'sofa', 'table', 'backed', 'improvement', 'protector', 'behind', 'slip', 'surface', 'extended', 'base', 'pivot', 'mywashburn', 'd10', 'orlando', 'bill', 'nicelyupdate', '72510', 'boo', 'hoo', 'offthe', 'mechanism', 'rubberized', 'clampsrubberized', 'scratching', 'marring', 'ergonomicthe', 'arched', 'weirdlooking', 'loopy', 'thingy', 'firmly', 'slipping', 'reposition', 'durablethe', 'aluminumupdate', 'champ', 'moi', 'november', '2007', 'colbie', 'caillat', 'bubblycheck', 'inbubblythe', 'presently', 'counter', 'attention', 'placement', 'g7th', 'evenly', 'kapo', 'sleek', 'greenish', 'yellow', 'accoustic', 'deserves', 'rounded', 'tighteri', 'aestheticits', 'necessarilydont', 'product5star', 'outforget', 'bux', 'patriotic', 'obvious', 'lovely', 'shard', 'silk', 'screening', 'snug', 'nobody', 'steal', 'm170', 'ernie', 'earthwood', 'shallow', 'unlike', 'pain', 'fullest', 'electro', '13', 'rithyms', 'elsei', 'installed', 'easierrecomended', 'named', 'usinging', 'manymany', 'yearsgrab', 'pricegreat', '349', 'dumping', 'greatlong', 'wiping', 'provide', 'dreadnought', 'heaven', 'soundthe', 'thinner', 'toogo', '1st', 'rich', 'broke', 'e', 'restringing', 'luckily', 'completed', 'fingerpacking', 'sometime', 'tired', 'steel', 'okay', 'folk', 'guitarnothing', 'special', 'gibson', 'j50', 'forever', 'thatthese', 'peg', 'stringsit', 'nicer', 'richer', 'saddle', 'bridge', 'restring', 'goi', 'yearslets', 'itmy', 'sore', 'handsi', 'usei', 'restrung', '016ny', 'guitaristthe', '35', 'dread', 'indicatei', 'wipe', 'minimize', 'tarnishingso', 'greatgreat', 'beautiful', 'mellow', 'ovation', 'possession', 'beater', 'holder', 'picture', 'misleading', 'barely', 'wedge', 'neath', 'convenientonly', 'negative', 'losing', 'dropping', 'sided', 'fun', 'pocket', 'strap', 'elsewhere', 'findloose', 'lightly', 'redeisigned', 'concluded', '800', 'velcro', 'preferable', 'groove', 'gadget', 'everybody', 'misplace', 'gage', 'therefore', 'stocking', 'stuffer', 'whicdh', 'enjoyed', 'smaller', 'snugly', 'pictured', 'recommendable', 'ax', 'dislodged', 'majority', 'fancy', 'possibility', 'falling', 'stageplease', 'click', 'helpful', 'encourage', 'writing', 'updating', 'question', 'answer', 'digging', 'scavenging', '5string', 'bassist', 'suddenly', 'wheres', 'offset', 'tuner', 'indispensable', 'sticky', 'stuffthere', 'specially', 'updated', 'stringsthe', 'explorer', 'spreading', 'jackson', 'radically', 'edition', 'audiophile', 'hound', 'resonance', 'attach', 'likey', 'asher', 'junior', 'lap', 'thumb', 'wedgie', '2nd3rd', '4th5th', 'nut', 'doodad', 'staying', 'organized', '55', 'tijuana', 'wood', 'progressing', 'respecti', 'treat', 'paul', '58th', 'birthday', 'financial', 'resource', '300000', 'git', 'shopped', 'settling', 'cherry', 'burst', 'lp100it', 'smooshed', 'notwithstanding', 'sorta']\n"
          ]
        }
      ]
    },
    {
      "cell_type": "code",
      "metadata": {
        "colab": {
          "base_uri": "https://localhost:8080/"
        },
        "id": "m1iXbOHvD8wD",
        "outputId": "03b296f7-228e-4147-a184-01230f961a1d"
      },
      "source": [
        "def find_features(doc):\n",
        "  words = set(doc)\n",
        "  features = {}\n",
        "  for w in word_features:\n",
        "    features[w] = (w in words)\n",
        "  return features \n",
        "\n",
        "print((find_features(word_tokenize(feature_set[0][0]))))"
      ],
      "execution_count": 79,
      "outputs": [
        {
          "output_type": "stream",
          "name": "stdout",
          "text": [
            "{'not': True, 'much': True, 'write': True, 'exactly': True, 'supposed': True, 'filter': True, 'pop': True, 'sound': True, 'recording': True, 'crisp': True, 'one': True, 'lowest': True, 'price': True, 'amazon': True, 'might': True, 'well': True, 'buy': True, 'honestly': True, 'work': True, 'despite': True, 'pricing': True, 'product': False, 'quite': False, 'affordablei': False, 'realized': False, 'double': False, 'screened': False, 'arrived': False, 'even': False, 'better': False, 'expectedas': False, 'added': False, 'bonus': False, 'screen': False, 'carry': False, 'small': False, 'hint': False, 'smell': False, 'old': False, 'grape': False, 'candy': False, 'used': False, 'reminiscents': False, 'sake': False, 'stop': False, 'putting': False, 'next': False, 'nose': False, 'smelling': False, 'dif': False, 'needed': False, 'expensive': False, 'may': False, 'come': False, 'pleasing': False, 'aroma': False, 'like': False, 'mine': False, 'didbuy': False, 'primary': False, 'job': False, 'device': False, 'block': False, 'breath': False, 'would': False, 'otherwise': False, 'produce': False, 'popping': False, 'allowing': False, 'voice': False, 'pas': False, 'noticeable': False, 'reduction': False, 'volume': False, 'high': False, 'frequency': False, 'cloth': False, 'let': False, 'coloration': False, 'metal': False, 'clamp': False, 'mount': False, 'attache': False, 'mike': False, 'stand': False, 'secure': False, 'enough': False, 'keep': False, 'attached': False, 'goose': False, 'neck': False, 'need': False, 'little': False, 'coaxing': False, 'stay': False, 'put': False, 'nice': False, 'windscreen': False, 'protects': False, 'mxl': False, 'mic': False, 'prevents': False, 'thing': False, 'gooseneck': False, 'marginally': False, 'able': False, 'hold': False, 'position': False, 'requires': False, 'careful': False, 'positioning': False, 'avoid': False, 'sagging': False, 'great': False, 'look': False, 'performs': False, 'studio': False, 'youre': False, 'vocal': False, 'eliminate': False, 'get': False, 'recorded': False, 'sing': False, 'good': False, 'bought': False, 'another': False, 'love': False, 'heavy': False, 'cord': False, 'gold': False, 'connector': False, 'bass': False, 'learned': False, 'last': False, 'night': False, 'coil': False, 'guess': False, 'read': False, 'instruction': False, 'carefully': False, 'harm': False, 'done': False, 'still': False, 'monster': False, 'cable': False, 'year': False, 'reason': False, 'lifetime': False, 'warranty': False, 'worth': False, 'alone': False, 'simple': False, 'fact': False, 'break': False, 'getting': False, 'replace': False, 'cost': False, 'use': False, 'run': False, 'output': False, 'pedal': False, 'chain': False, 'input': False, 'fender': False, 'amp': False, 'hook': False, 'board': False, 'thought': False, 'try': False, 'update': False, 'guitar': False, 'using': False, 'end': False, 'planet': False, 'wave': False, '1980s': False, 'found': False, 'jack': False, 'new': False, 'didnt': False, 'fit': False, 'strat': False, 'disappointed': False, 'return': False, 'stated': False, 'save': False, 'money': False, 'went': False, 'back': False, 'cablei': False, 'payed': False, '3000': False, 'eighty': False, 'around': False, '5000': False, 'im': False, 'pay': False, 'lot': False, 'daybut': False, 'havent': False, 'since': False, 'one20': False, 'plus': False, 'workingplanet': False, 'win': False, 'perfect': False, 'epiphone': False, 'sheraton': False, 'ii': False, 'constructed': False, 'several': False, 'never': False, 'problem': False, 'got': False, 'wanted': False, '90': False, 'degree': False, 'plug': False, 'make': False, 'best': False, 'doesnt': False, 'hurt': False, 'either': False, 'isnt': False, 'top': False, 'line': False, 'series': False, 'rig': False, 'time': False, 'cant': False, 'go': False, 'wrong': False, 'wide': False, 'array': False, 'including': False, 'initially': False, 'purchased': False, 'pair': False, 'ofmonster': False, 'rock': False, 'instrument': False, '21': False, 'foot': False, 'angled': False, 'straight': False, '14inch': False, 'plugto': False, 'keyboard': False, 'came': False, 'purchase': False, 'id': False, 'pinch': False, 'penny': False, 'glad': False, 'didi': False, 'compared': False, 'model': False, 'previously': False, 'aside': False, 'could': False, 'detect': False, 'difference': False, 'swapped': False, 'forth': False, 'ensuring': False, 'differencewhat': False, 'going': False, 'sure': False, 'higher': False, 'priced': False, 'sturdy': False, 'molded': False, 'stress': False, 'relief': False, 'seem': False, 'reliable': False, 'pricier': False, 'siblingbottom': False, 'compare': False, 'possible': False, 'making': False, 'decision': False, 'find': False, 'necessarily': False, 'equal': False, 'value': False, 'manufacturer': False, 'dont': False, 'really': False, 'often': False, 'rarely': False, 'see': False, 'organ': False, 'large': False, 'sustaining': False, 'playing': False, 'piano': False, 'appear': False, 'awkward': False, 'yamaha': False, 'ypt230': False, 'recommend': False, 'anyone': False, 'home': False, 'control': False, 'midi': False, 'wasnt': False, 'aware': False, 'option': False, 'smoothly': False, 'acoustic': False, 'always': False, 'feel': False, 'nowhere': False, 'closein': False, 'opinion': False, 'sustain': False, 'maudio': False, 'sp2': False, 'style': False, 'action': False, 'similar': False, 'choice': False, 'dollar': False, 'ive': False, 'fc5': False, 'taking': False, 'space': False, 'drawer': False, 'electric': False, 'length': False, 'sometimes': False, 'bit': False, 'long': False, 'mind': False, 'build': False, 'quality': False, 'know': False, 'gripe': False, 'sleeve': False, 'unscrewed': False, 'way': False, 'easily': False, 'requiring': False, 'tighten': False, 'oftensound': False, 'affected': False, 'color': False, 'cool': False, 'definitely': False, 'aloneit': False, 'looking': False, 'performas': False, 'sam': False, 'ash': False, 'packed': False, 'mailer': False, 'inside': False, 'box': False, 'roc': False, 'n': False, 'soc': False, 'shipping': False, 'team': False, 'worknever': False, 'complaint': False, 'thanks': False, '4': False, 'month': False, 'holding': False, 'pretty': False, 'seemingly': False, 'indestructable': False, 'made': False, 'electrician': False, 'friend': False, 'finally': False, 'gave': False, 'habit': False, 'noname': False, 'display': False, 'near': False, 'register': False, 'center': False, 'impulse': False, 'something': False, 'third': False, 'fourth': False, 'failed': False, 'light': False, 'decided': False, 'cheaper': False, 'terribly': False, 'hard': False, 'gear': False, 'tend': False, 'twisted': False, 'move': False, 'eventually': False, 'fail': False, 'midcable': False, 'spending': False, 'extra': False, 'durable': False, 'actually': False, '12': False, 'shipped': False, 'reasonably': False, '18': False, 'kind': False, 'limited': False, 'life': False, 'warantee': False, 'five': False, 'star': False, 'nicely': False, 'shippedincidentally': False, 'shielded': False, 'meant': False, 'connect': False, 'amplifier': False, 'speaker': False, 'cab': False, 'want': False, 'unshielded': False, 'purposeedit': False, '6': False, 'passed': False, 'functioning': False, 'without': False, 'issue': False, 'gone': False, 'significantly': False, 'although': False, 'highly': False, 'recommended': False, 'probably': False, 'hosa': False, 'adding': False, 'word': False, 'california': False, 'description': False, 'beach': False, 'boy': False, 'cheap': False, 'bent': False, 'badly': False, 'fault': False, 'consider': False, 'awhile': False, 'youll': False, 'hear': False, 'rattle': False, 'seems': False, 'retro': False, 'screw': False, 'black': False, 'rubber': False, 'welli': False, 'also': False, 'shorter': False, 'red': False, 'perfectly': False, 'thesis': False, 'practicing': False, 'others': False, 'easier': False, 'different': False, 'cutting': False, 'someone': False, 'accident': False, 'green': False, 'clear': False, 'lake': False, 'placid': False, 'blue': False, 'apple': False, 'tele': False, 'tends': False, 'lay': False, 'flat': False, 'floor': False, 'rockband': False, 'controller': False, 'profire': False, '2626': False, 'pro': False, 'tool': False, 'firm': False, 'solidly': False, 'reputable': False, 'branded': False, 'cablea': False, 'thin': False, 'side': False, 'seen': False, 'due': False, 'anything': False, 'couldnt': False, '5': False, 'prime': False, 'eligibility': False, 'searching': False, 'art': False, 'x15': False, 'across': False, '2': False, 'realize': False, 'happy': False, 'plastic': False, 'flawlessly': False, 'must': False, 'overestimated': False, 'wish': False, 'longer': False, 'connection': False, 'racked': False, 'module': False, 'budget': False, 'worry': False, 'uneven': False, 'detaches': False, 'hitch': False, 'trying': False, 'task': False, 'pin': False, 'config': False, 'correct': False, 'fine': False, 'xlr': False, 'affordable': False, 'heavily': False, 'madei': False, 'mixer': False, 'rack': False, 'everywherei': False, '5ft': False, 'measurement': False, 'worked': False, 'perfectlyyou': False, 'mobile': False, 'church': False, 'take': False, 'beating': False, 'strong': False, 'inexpensive': False, 'require': False, 'professionallevel': False, 'equipment': False, 'serf': False, 'purpose': False, 'satisfied': False, 'every': False, 'week': False, 'gig': False, 'solid': False, 'solder': False, 'joint': False, 'bang': False, 'buck': False, 'looked': False, 'specification': False, 'guessing': False, 'wire': False, '22': False, '24': False, 'awg': False, '10': False, 'touch': False, '20': False, 'inch': False, 'connected': False, 'solo': False, 'live': False, 'show': False, 'portastudio': False, 'spaghetti': False, 'trip': False, 'place': False, 'two': False, 'digitech': False, 'harmony': False, 'processor': False, 'required': False, 'operational': False, 'usually': False, 'obtainable': False, 'di': False, 'abused': False, 'mics': False, 'greatest': False, 'theyre': False, 'fast': False, 'many': False, 'broadcast': False, 'studioamazon': False, 'first': False, 'audio': False, 'video': False, 'computer': False, 'concert': False, 'lightinggood': False, 'music': False, 'decent': False, 'point': False, 'nothing': False, 'exceptional': False, 'indeed': False, 'range': False, 'market': False, 'returning': False, 'shouldve': False, 'known': False, 'son': False, 'experience': False, 'musician': False, 'brand': False, 'seeking': False, 'proper': False, 'replacementi': False, 'setup': False, 'includes': False, 'behringer': False, 'c1': False, 'condenser': False, 'microphone': False, 'xenyx': False, '302': False, 'excellentan': False, 'excellent': False, 'support': False, 'usage': False, 'tube': False, 'preamp': False, 'zero': False, 'far': False, 'fairly': False, 'weight': False, 'survived': False, 'plugging': False, 'unplugging': False, 'packing': False, 'practice': False, 'spacesill': False, 'review': False, 'ifwhen': False, 'realtively': False, 'patch': False, 'guitari': False, 'held': False, 'replacement': False, 'short': False, 'pleasantly': False, 'surprised': False, 'already': False, 'though': False, 'fortunately': False, 'phono': False, 'covered': False, 'white': False, 'shrink': False, 'noticed': False, 'hum': False, 'crackle': False, 'texture': False, 'stiff': False, 'tell': False, 'soldering': False, 'noise': False, 'satified': False, 'leave': False, 'house': False, 'asking': False, 'handle': False, 'reasonable': False, 'care': False, 'professional': False, 'ever': False, 'eric': False, 'clapton': False, 'expanding': False, 'collection': False, 'effect': False, 'additional': False, 'everything': False, '25': False, 'give': False, 'flexibility': False, 'stepped': False, 'pulled': False, 'aroundthe': False, 'cablehighly': False, 'recommendedcfh': False, 'expect': False, 'thickness': False, 'longterm': False, 'durability': False, 'signal': False, 'lossinterference': False, 'foresight': False, 'spend': False, 'couple': False, 'thicker': False, 'inexpensiveedit': False, 'later': False, 'dead': False, 'frayed': False, 'right': False, 'angle': False, 'daughter': False, 'along': False, 'think': False, 'soon': False, 'based': False, 'typically': False, 'play': False, 'hour': False, 'day': False, 'perform': False, 'buzz': False, 'andor': False, 'noted': False, 'performed': False, 'rugged': False, 'hosas': False, '1434': False, 'lug': False, 'heat': False, 'material': False, 'grade': False, 'ft': False, 'crappy': False, 'purchasing': False, 'shell': False, 'pedalboard': False, 'soundproof': False, 'clean': False, 'sounding': False, 'past': False, 'confidence': False, 'hopefully': False, 'usefull': False, 'second': False, 'item': False, 'say': False, 'maybe': False, 'taken': False, 'served': False, 'problemsreal': False, 'silicone': False, 'jacket': False, 'strain': False, 'die': False, 'notice': False, 'feeling': False, 'built': False, 'goodi': False, 'absolutely': False, 'cordvery': False, 'low': False, 'repairable': False, 'effective': False, 'releafthick': False, 'cover': False, 'cordof': False, 'course': False, 'itit': False, 'durableif': False, 'change': False, 'reviewfor': False, 'onejoe': False, 'stage': False, 'tangleing': False, 'fantastic': False, 'deal': False, 'multiple': False, 'jam': False, 'terminal': False, 'spring': False, 'arent': False, 'road': False, 'size': False, 'jammin': False, 'aesthetically': False, 'totally': False, 'gtr210': False, '10ft': False, 'wont': False, 'bank': False, 'unbalanced': False, 'notoriously': False, 'noisy': False, 'especially': False, 'florescent': False, 'prefer': False, 'shielding': False, 'justify': False, 'expense': False, 'considering': False, 'basic': False, 'rubbery': False, 'arise': False, 'whatsoever': False, 'lasting': False, 'affect': False, 'negatively': False, 'prematurely': False, 'useful': False, 'spanthese': False, 'gooey': False, 'soft': False, 'mogami': False, 'working': False, 'reliably': False, '2534': False, 'diameter': False, 'eye': False, 'overwrap': False, 'add': False, 'strength': False, 'enters': False, 'plugi': False, 'internet': False, 'split': False, 'condition': False, 'weve': False, 'continuously': False, 'sincewe': False, 'dozen': False, 'particular': False, 'degradation': False, 'anyonei': False, 'frill': False, 'tangle': False, 'easy': False, 'design': False, 'considered': False, 'taught': False, 'afford': False, 'showed': False, 'search': False, 'jumped': False, 'figured': False, 'loseto': False, 'surprise': False, 'thick': False, 'inspires': False, 'identical': False, 'quarter': False, 'pricehmmmm': False, 'tried': False, 'figure': False, 'instead': False, 'listening': False, '34snobs34': False, 'againthis': False, 'twice': False, 'kiss': False, 'overpriced': False, 'goodbye': False, 'loose': False, 'tightened': False, 'coming': False, 'dab': False, 'crazy': False, 'glue': False, 'thread': False, 'hope': False, 'open': False, 'repair': False, 'fantasticthey': False, 'trust': False, 'key': False, 'meet': False, 'push': False, 'itset': False, 'plugged': False, 'andwho': False, 'knowsbut': False, 'seven': False, 'beginner': False, 'testing': False, 'watersotherwise': False, 'chance': False, 'stuff': False, 'exception': False, 'trusted': False, 'single': False, 'owned': False, 'thats': False, 'least': False, '15': False, 'plan': False, 'speak': False, 'unscrew': False, 'hardly': False, 'disproves': False, 'notion': False, 'outweighs': False, 'face': False, 'vary': False, 'greatly': False, 'replaced': False, 'lighter': False, 'ibanez': False, 'watt': False, 'set': False, 'changed': False, 'significant': False, 'checked': False, 'teacher': False, 'said': False, 'appears': False, 'duty': False, 'proximity': False, 'attenuated': False, 'inconsequential': False, 'greathosa': False, 'band': False, 'feedback': False, 'performing': False, 'unless': False, 'chord': False, 'medium': False, 'sized': False, 'venue': False, 'neverhad': False, 'themi': False, 'active': False, 'throughthe': False, 'rigger': False, 'happens': False, 'comment': False, 'thistype': False, 'usagein': False, '40': False, 'thatyou': False, 'string': False, 'aseven': False, '3': False, 'flexible': False, 'develop': False, 'kink': False, 'bending': False, 'roll': False, 'wayive': False, 'certainly': False, 'worse': False, 'sweet': False, 'spot': False, 'procheapo': False, 'hated': False, 'gummylike': False, 'drop': False, 'else': False, '100': False, 'almost': False, 'plenty': False, 'room': False, 'recieved': False, 'bad': False, '50': False, 'guy': False, 'havnt': False, 'yet': False, 'leaf': False, 'desired': False, 'structural': False, 'integrity': False, 'concerned': False, 'mating': False, 'part': False, 'jiggle': False, 'switch': False, '2mm': False, 'pressedi': False, 'critical': False, 'application': False, 'suited': False, 'hobby': False, 'connecting': False, 'directly': False, 'record': False, 'console': False, 'recomended': False, 'beta': False, '58': False, 'panasonic': False, 'g2': False, 'dslr': False, 'kodak': False, 'zi8': False, 'interview': False, 'trs': False, 'received': False, 'expected': False, 'adapter': False, 'construction': False, 'superb': False, 'digital': False, 'recorder': False, 'pcit': False, 'handy': False, 'type': False, 'recordersbut': False, 'forget': False, 'hooking': False, 'pc': False, 'canon': False, 'vixia': False, 'hf': False, 'g10': False, 'camera': False, 'shotgun': False, 'recently': False, '1234': False, 'mounted': False, 'mini': False, 'advanced': False, 'shoe': False, 'camerathe': False, '1': False, 'actual': False, '834': False, 'returned': False, 'hassle': False, 'rated': False, 'nikon': False, 'd3200': False, 'ok': False, 'tight': False, 'there': False, 'wireid': False, 'worst': False, 'case': False, 'scenario': False, 'ziptie': False, 'loop': False, 'angry': False, 'fitalso': False, 'hiss': False, 'unsure': False, 'stretched': False, 'max': False, 'adaptor': False, 'real': False, 'listing': False, 'confusing': False, 'stereo': False, 'headphone': False, 'left': False, 'separate': False, 'configured': False, 'mono': False, 'balanced': False, 'fix': False, 'moving': False, 'ping': False, 'tie': False, 'ground': False, 'awarded': False, 'uniformly': False, 'connecter': False, 'mate': False, 'insert': False, 'componenti': False, 'specifically': False, 'transform': False, 'channel': False, 'mypowerwerks': False, 'personal': False, 'pa': False, 'systeminto': False, 'useable': False, 'expands': False, 'functionality': False, 'versatility': False, 'portable': False, 'three': False, 'unit': False, 'daisychained': False, 'enhance': False, 'entire': False, 'system': False, 'adapteranother': False, 'free': False, 'environment': False, 'source': False, 'electromagnetic': False, 'interference': False, 'pick': False, 'transmit': False, 'plusoverall': False, 'pleased': False, 'spare': False, 'damage': False, 'lose': False, 'peace': False, 'premium': False, 'podium': False, 'zoom': False, 'h1': False, 'instrumental': False, 'capturing': False, 'event': False, 'visual': False, 'check': False, 'sinlge': False, 'splitter': False, 'dv': False, 'function': False, 'caveatsfirst': False, 'mean': False, 'gentle': False, 'none': False, 'u': False, 'production': False, 'field': False, 'beat': False, 'upsecond': False, 'reach': False, 'wherever': False, 'extend': False, 'adapterso': False, 'shop': False, 'however': False, 'd800': False, 'usual': False, 'expectedto': False, 'tested': False, 'h4': False, 'recorderseems': False, 'inputno': False, 'big': False, 'minor': False, 'post': False, 'company': False, 'keyboardsmy': False, 'convert': False, 'true': False, 'eq': False, 'properly': False, 'charm': False, 'slightly': False, 'zip': False, 'stretch': False, 'ordered': False, 'expecting': False, 'whole': False, 'nearly': False, '10foot': False, 'turn': False, 'flimsy': False, 'waited': False, 'static': False, 'explain': False, 'receptacle': False, 'introduction': False, 'discernible': False, 'loss': False, 'brilliant': False, 'reviewer': False, 'wondering': False, 'economical': False, 'judgment': False, 'count': False, 'among': False, 'werent': False, 'become': False, 'convinced': False, 'charge': False, 'sendreturns': False, 'send': False, 'tip': False, 'ring': False, 'common': False, '14': False, 'tr': False, 'in': False, 'outsthis': False, 'hookup': False, 'sharkbehringer': False, 'shark': False, 'fbq100': False, 'automatic': False, 'destroyerto': False, '1202vlz3s': False, 'sendreturnsmackie': False, '1202vlz3': False, '12ch': False, 'compact': False, 'recordingsr': False, 'mixeri': False, 'order': False, 'sendreturn': False, 'operate': False, 'analog': False, '8': False, 'compression': False, 'limiter': False, 'gate': False, 'expander': False, 'various': False, 'routed': False, 'applied': False, 'specific': False, 'snake': False, 'individual': False, 'differing': False, 'lifesaver': False, 'efficient': False, 'soundman': False, 'complaintson': False, 'note': False, 'caig': False, 'deoxit': False, 'g5': False, 'spray': False, 'contact': False, 'conditioner': False, 'ozand': False, 'hightly': False, 'differnce': False, 'qtip': False, 'cablewe': False, 'custom': False, 'manufacture': False, 'soundreinforcement': False, 'fixed': False, 'installation': False, 'processing': False, 'simply': False, 'goto': False, 'reliability': False, 'reputation': False, 'stakehosa': False, 'allows': False, 'maintain': False, 'lowering': False, 'labor': False, 'dependable': False, 'ipod': False, 'wake': False, 'kid': False, 'needing': False, 'lepai': False, 'ipodsiphones': False, 'anyway': False, 'stereotomono': False, 'solution': False, 'bag': False, 'phone': False, 'auxinput': False, 'genz': False, 'benz': False, 'head': False, 'rehearsal': False, 'listen': False, 'track': False, 'arrangement': False, 'full': False, 'fearful': False, '1561': False, 'picking': False, '1834': False, 'seemed': False, 'hand': False, 'super': False, 'sufficient': False, 'gauge': False, 'forgiven': False, 'etcfor': False, 'intent': False, '5star': False, 'fair': False, 'ultra': False, 'yes': False, 'wrote': False, 'reviewed': False, 'electron': False, 'complete': False, 'failure': False, 'away': False, 'picked': False, 'test': False, 'happier': False, 'suck': False, 'tone': False, 'normal': False, 'l': False, 'paid': False, 'fineim': False, 'jump': False, 'httpwwwamazoncomgpproductb001pgxkc8refohdetailso04s00i02ieutf8psc1': False, 'listed': False, 'whereas': False, 'emergency': False, 'upto': False, 'conclude': False, 'recommendation': False, 'farther': False, 'deliver': False, 'ask': False, 'interconnect': False, 'hasnt': False, 'given': False, 'stomp': False, 'con': False, 'badno': False, 'opening': False, 'people': False, 'movement': False, 'wear': False, 'distance': False, 'bue': False, 'generally': False, 'distortion': False, 'paddle': False, 'ampdo': False, 'favor': False, 'threw': False, 'dealer': False, 'placed': False, 'onlinecarstereocom': False, 'report': False, 'scam': False, 'operation': False, 'credit': False, 'card': False, 'cotheir': False, 'customer': False, 'terrible': False, 'mistake': False, 'placing': False, 'orderright': False, 'reliableive': False, 'yearsand': False, 'player': False, 'mail': False, 'level': False, 'performance': False, 'form': False, 'forsee': False, 'together': False, 'eithout': False, 'mesws': False, 'fanciest': False, 'anytime': False, 'fails': False, 'link': False, 'stompboxes': False, 'crackly': False, 'frequent': False, 'within': False, 'guitarist': False, 'stock': False, 'accessible': False, 'twelve': False, 'themenjoy': False, 'fan': False, 'lower': False, 'profile': False, 'bend': False, 'hoping': False, 'funky': False, 'discovered': False, 'situation': False, 'interfacemix': False, 'monitor': False, 'female': False, 'create': False, 'buying': False, 'adapt': False, 'hence': False, 'p': False, 'matter': False, 'definately': False, 'happen': False, 'ion': False, 'shure': False, 'z108net': False, 'title': False, 'took': False, 'stuck': False, 'force': False, 'besides': False, 'sm57': False, 'male': False, 'converter': False, 'bulky': False, 'clip': False, 'onto': False, 'fitting': False, 'certain': False, 'overall': False, 'perhaps': False, 'impedance': False, 'local': False, 'store': False, 'regular': False, 'keyboardpractice': False, 'lead': False, 'foh': False, 'power': False, 'began': False, 'transformer': False, 'isolated': False, 'started': False, 'bigger': False, 'cause': False, 'stick': False, 'singer': False, 'close': False, 'horizontally': False, 'funny': False, 'vertical': False, 'reproduced': False, 'recomed': False, 'everyone': False, 'tascam': False, 'dr40': False, 'step': False, 'postproduction': False, 'wouldnt': False, 'important': False, 'coordinator': False, 'believe': False, 'radioshack': False, 'business': False, 'lady': False, 'gentleman': False, 'apply': False, 'themregardsffsalsa': False, 'ended': False, 'dual': False, 'shoot': False, 'wedding': False, 'half': False, 'dj': False, 'introdustions': False, 'speaking': False, 'hot': False, 'crap': False, 'stupid': False, 'edit': False, 'compress': False, 'improved': False, 'beyond': False, 'sold': False, 'wireless': False, 'engineer': False, 'genzbenz': False, 'amplification': False, 'andy': False, 'superior': False, 'scratchy': False, 'potentiometer': False, 'shuttle': False, '60': False, 'oxidized': False, 'causing': False, 'intermittently': False, 'resolved': False, 'lubricating': False, 'cleaning': False, 'coating': False, 'component': False, 'wow': False, 'affiliation': False, 'represent': False, 'magic': False, 'hahseriously': False, 'hinge': False, 'car': False, 'door': False, 'etci': False, 'pot': False, 'knob': False, 'rid': False, 'radio': False, 'example': False, 'restored': False, 'soundpower': False, 'clearity': False, 'ampsit': False, 'evaporate': False, 'minute': False, 'deoxitnot': False, 'name': False, 'remember': False, 'le': False, 'military': False, 'wasteful': False, 'luck': False, 'wd40': False, 'flammable': False, 'call': False, 'average': False, 'tech': False, '95': False, 'cut': False, 'spraying': False, 'pushing': False, 'socket': False, 'hundred': False, 'electronic': False, 'musical': False, 'fx': False, 'etc': False, 'start': False, 'suffering': False, 'etcin': False, 'locktite': False, 'electronics': False, 'cleaner': False, 'provided': False, 'workin': False, 'contrast': False, 'cleaned': False, 'piece': False, 'saving': False, 'physically': False, 'error': False, 'printer': False, 'cartridge': False, 'recognized': False, 'sprayed': False, 'wiped': False, 'excess': False, 'paper': False, 'towel': False, 'scratchiness': False, 'jarring': False, 'spike': False, 'glide': False, 'ill': False, 'stuffi': False, 'sooner': False, 'brillcream': False, 'yasomething': False, 'coin': False, 'mesa': False, 'boogie': False, 'developed': False, 'yearsthis': False, 'midrange': False, 'starting': False, 'againi': False, 'hate': False, 'tear': False, 'chassis': False, 'itd': False, 'ta': False, 'cracklefeels': False, 'oily': False, 'replacethe': False, 'alot': False, 'crackling': False, '34scratchy34': False, 'karaoke': False, 'truly': False, 'saw': False, 'madevery': False, 'moneycant': False, 'cheep': False, 'missing': False, 'onoff': False, 'freelancer': False, 'occasionally': False, 'midwest': False, 'nearweekly': False, 'basis': False, 'seasoned': False, 'veteran': False, 'interest': False, 'per': False, 'se': False, 'cachet': False, 'group': False, 'nady': False, 'lowerpriced': False, 'ago': False, 'insisting': False, 'sm57s': False, '58s': False, 'workmanship': False, 'casual': False, 'empirical': False, 'prove': False, 'nadys': False, 'announcing': False, 'softer': False, 'flute': False, 'harmonica': False, 'broken': False, 'quit': False, 'watchim': False, 'keyboardist': False, 'fidelity': False, 'trifle': False, 'mortified': False, 'audience': False, 'catch': False, 'allimportant': False, 'embarrassment': False, 'confess': False, 'unmixed': False, 'demonic': False, 'glee': False, 'who': False, 'playingand': False, 'seeing': False, 'grandson': False, 'handling': False, 'machine': False, 'thinking': False, 'sp4c': False, 'impressive': False, 'roland': False, 'cm30': False, 'cube': False, 'micro': False, 'currently': False, 'canare': False, 'resolder': False, 'complicated': False, 'iti': False, 'mistreat': False, 'narrower': False, 'cagy': False, 'eg': False, 'running': False, 'belt': False, 'pack': False, 'micsthe': False, 'pronounced': False, 'butyl': False, 'activated': False, 'allergy': False, 'stored': False, 'cardboard': False, 'help': False, 'folksbut': False, 'monthstheyre': False, 'impressed': False, 'workout': False, 'gls': False, 'lacking': False, 'gain': False, 'speech': False, 'sm58s': False, 'pg48': False, 'sm58': False, 'capability': False, 'digitally': False, 'idea': False, 'learning': False, 'process': False, 'reproduction': False, 'flaw': False, 'exchange': False, 'website': False, 'podcasting': False, 'whats': False, 'included': False, 'tune': False, 'duo': False, 'trio': False, 'drum': False, 'club': False, 'basically': False, 'pyle': False, 'self': False, 'contained': False, 'martin': False, 'grp': False, 'elecacoustic': False, 'bny': False, 'hesitation': False, 'heard': False, 'plusthe': False, '3699': False, 'paying': False, '3234': False, 'toshiba': False, '230': False, 'bringing': False, 'elctronics': False, 'strongly': False, 'backup': False, 'package': False, 'honest': False, 'standard': False, 'measured': False, 'deserved': False, 'pg58s': False, 'sm48': False, 'pg58': False, 'spec': False, 'pricethe': False, 'heavier': False, 'protecting': False, 'interchangeable': False, 'setting': False, 'singing': False, 'repeated': False, 'experiment': False, 'changing': False, 'mikesheres': False, 'flatter': False, 'mid': False, 'brighter': False, 'presence': False, 'slight': False, 'manipulated': False, 'ordinary': False, 'neither': False, 'susceptible': False, 'popi': False, 'comparison': False, 'consuming': False, 'interferes': False, 'difficulty': False, 'judge': False, 'combination': False, 'except': False, 'person': False, 'expressed': False, 'preference': False, 'settingsi': False, 'response': False, '10k': False, 'hz': False, 'db': False, 'pg': False, 'somewhere': False, 'human': False, '300': False, 'likely': False, 'tad': False, 'responsive': False, 'singeri': False, 'shack': False, '8500': False, 'outclassed': False, 'shures': False, 'tinny': False, '2000xm': False, 'similarity': False, 'b': False, '2000': False, 'sm': False, 'discontinued': False, '1800xm': False, 'inferior': False, 'offered': False, 'bundle': False, '50i': False, 'number': False, '333001': False, 'tonei': False, 'conclusionsthere': False, 'snobbery': False, 'choosing': False, 'unreachable': False, 'unreasonable': False, 'testi': False, 'unbiased': False, 'condescension': False, 'toward': False, 'alternative': False, 'bearer': False, 'giving': False, 'evaluation': False, 'worshippraise': False, 'song': False, 'southern': False, 'gospel': False, 'smooth': False, 'enhances': False, 'revise': False, 'somehow': False, '8900': False, 'pg58updatedecember': False, '2012the': False, 'acquired': False, 'ready': False, 'agree': False, 'argue': False, 'neumann': False, 'telefunken': False, 'costing': False, 'g': False, 'respect': False, 'sufficiently': False, 'highpowered': False, 'tweaked': False, 'mistaken': False, 'attempt': False, 'led': False, 'sounded': False, 'somewhat': False, 'muted': False, 'dull': False, 'switching': False, 'admittedly': False, 'crispness': False, 'clarity': False, 'announcementsps': False, 'larger': False, 'rise': False, 'workstation': False, 'garage': False, 'goldplated': False, 'expensivelooking': False, 'appearance': False, 'matterexcept': False, 'director': False, 'school': False, 'dispense': False, 'headset': False, 'wrap': False, 'halfway': False, 'knowing': False, 'girl': False, 'frontline': False, 'coolthey': False, 'madonnaa': False, 'janets': False, 'headgear': False, 'tiny': False, 'pinhole': False, 'proven': False, 'classic': False, 'mark': False, 'v': False, '1x12': False, 'cabinet': False, 'indestructiblelooking': False, 'forward': False, 'future': False, 'project': False, 'primarily': False, 'preferred': False, '1970': False, '545': False, 'unidyne': False, 'iii': False, 'stolen': False, 'remarkably': False, 'boosted': False, 'countless': False, 'modern': False, 'deep': False, 'baritone': False, 'closer': False, '7': False, '469': False, 'sm7': False, 'fragile': False, 'four': False, 'crisper': False, 'fuller': False, 'natural': False, 'muddy': False, 'muffled': False, 'shove': False, 'throat': False, 'benefit': False, 'dramatic': False, 'a2ws': False, 'genuine': False, 'precisely': False, 'lock': False, 'securely': False, 'mad': False, 'drawback': False, 'available': False, 'anywhere': False, 'youve': False, 'forgot': False, 'became': False, 'liability': False, 'generation': False, 'builtin': False, 'variable': False, 'predecessor': False, 'enduring': False, 'seriously': False, 'judgedno': False, 'kidding': False, 'conga': False, 'tablas': False, 'deliversi': False, 'president': False, 'therein': False, 'vocalist': False, 'pipe': False, 'lack': False, 'projection': False, 'wannabesfor': False, 'reinforcement': False, 'barnone': False, 'tom': False, 'petty': False, 'vox': False, 'heartbreaker': False, 'album': False, 'rest': False, 'perc': False, 'dropped': False, 'story': False, 'building': False, 'parking': False, 'barley': False, 'dented': False, 'housing': False, 'drummer': False, 'us': False, 'kit': False, 'told': False, 'haha': False, 'shame': False, 'ie': False, 'presentor': False, 'seies': False, 'garbage': False, 'dynamic': False, 'tailored': False, 'towards': False, '57': False, 'amateur': False, 'practitioner': False, 'operating': False, 'refuse': False, 'interchangeably': False, 'filling': False, 'snare': False, 'living': False, 'introduced': False, 'world': False, '1967': False, 'sm58lc': False, 'batman': False, 'status': False, 'relegating': False, 'robin': False, 'assessment': False, 'foam': False, 'lined': False, 'cage': False, 'electricallythe': False, 'designed': False, 'begin': False, 'increasing': False, 'capacity': False, 'cousin': False, 'slimmed': False, 'mostly': False, 'micing': False, 'excels': False, 'atone': False, 'role': False, 'official': False, 'press': False, 'conference': False, 'vip': False, 'bundled': False, 'kitshure': False, 'kityou': False, 'exact': False, 'usethe': False, 'extremely': False, 'tough': False, 'abuse': False, 'popular': False, 'touring': False, 'pricethere': False, 'performer': False, 'seriesshure': False, '57a': False, 'microphonethat': False, 'capsule': False, 'buybottom': False, 'awesome': False, 'overly': False, 'recordists': False, 'knocked': False, 'amount': False, 'micend': False, 'multitrack': False, 'teen': False, 'christmas': False, 'park': False, 'micgreat': False, 'needsi': False, 'industry': False, 'withstood': False, 'practicingi': False, '600': False, 'decide': False, 'result': False, 'hd': False, 'tv': False, 'bd': False, 'cd': False, 'compliment': False, 'user': False, 'exceeds': False, 'expectationsarrived': False, 'promised': False, 'frustration': False, 'hood': False, 'unwanted': False, 'dirt': False, 'spitthe': False, 'dent': False, 'body': False, 'transportation': False, 'continue': False, 'rusted': False, 'grill': False, 'd5': False, 'akg': False, 'rule': False, 'signature': False, 'ancestor': False, 'relative': False, '1968': False, 'broadcasting': False, 'spoken': False, 'content': False, 'vocalsthe': False, 'mouth': False, 'public': False, 'address': False, 'comfortable': False, 'resist': False, 'lip': False, 'weaker': False, 'sm58the': False, 'directional': False, 'manageable': False, 'increase': False, 'practically': False, 'ball': False, 'precious': False, 'colored': False, 'prominent': False, 'boost': False, 'upper': False, 'clearly': False, 'youd': False, 'sax': False, 'personally': False, 'technique': False, 'nature': False, 'depends': False, 'responseone': False, 'advantage': False, 'turned': False, 'louder': False, 'annoying': False, 'squeal': False, 'shaped': False, 'ten': False, 'rusty': False, 'dusty': False, 'smoked': False, 'spit': False, 'slammed': False, 'hardwood': False, 'boom': False, 'mass': False, 'fall': False, 'malfunction': False, 'itall': False, 'proline': False, 'ebay': False, 'senneheisers': False, 'evolution': False, 'onstage': False, 'foreseeable': False, 'follow': False, 'crowd': False, 'stopped': False, 'today': False, 'theyd': False, 'legendary': False, 'bout': False, 'nail': False, 'cheapie': False, 'intend': False, 'singingvocals': False, 'switched': False, 'depend': False, 'smoothness': False, 'reproduces': False, 'warm': False, 'wail': False, 'betweenthe': False, 'sm58cn': False, '25ft': False, 'pouch': False, 'miss': False, 'microphoneas': False, 'workhorse': False, 'crispy': False, 'robust': False, 'productalso': False, 'jr': False, 'supplier': False, 'expectedim': False, 'wonderful': False, 'addition': False, 'ballad': False, 'classical': False, 'upon': False, 'meeting': False, 'clearer': False, 'akgthe': False, 'modification': False, 'sensitive': False, 'd5however': False, 'immortal': False, 'john': False, 'cameron': False, 'swayze': False, 'hawking': False, 'timex': False, 'watch': False, 'early': False, 'television': False, 'categorybefore': False, 'career': False, 'film': False, 'recordist': False, 'played': False, 'mixing': False, 'fell': False, 'brother': False, '1966': False, 'quickly': False, 'rose': False, 'ear': False, 'indestructiblethe': False, 'cardiord': False, 'heart': False, 'reject': False, '4k': False, 'bump': False, '15000': False, 'sits': False, 'internally': False, 'shock': False, 'isolate': False, 'noisewe': False, 'joke': False, 'hammer': False, 'grab': False, 'greatthe': False, 'distinctive': False, 'influenced': False, 'layer': False, 'element': False, 'frame': False, 'reference': False, 'theshure': False, 'sm57lc': False, 'cardioid': False, 'microphoneis': False, 'screenshure': False, 'sell': False, '58a': False, 'supercardioid': False, 'buythe': False, 'forty': False, 'announcement': False, 'accommodate': False, 'guest': False, 'rather': False, 'whatever': False, 'oomph': False, 'peavey': False, 'employ': False, 'borrow': False, 'instant': False, 'dramaticits': False, 'producing': False, 'preamplification': False, 'demonstrating': False, 'fathom': False, 'avoiding': False, 'version': False, 'quick': False, 'pickup': False, 'private': False, 'indiscreet': False, 'member': False, 'instrumentalist': False, 'wiser': False, 'select': False, 'former': False, 'ostentatious': False, 'adaptable': False, 'wind': False, 'nonmusical': False, 'sherman': False, 'tank': False, 'unparalleled': False, 'ruggedness': False, 'durabilityi': False, 'cautioning': False, 'consumer': False, 'wary': False, 'seller': False, 'commerce': False, 'competitive': False, 'postage': False, 'populous': False, 'drone': False, 'invariably': False, 'firsthand': False, 'gettingreliability': False, 'virtual': False, 'indestructibility': False, 'popularity': False, 'imitator': False, 'flashier': False, 'prettier': False, 'moderner': False, 'nostalgic': False, 'marketing': False, 'claim': False, 'blowing': False, 'smoke': False, '34mic34': False, 'proved': False, 'gamblethis': False, 'meamateur': False, 'infrequent': False, 'setupteardownsits': False, 'locking': False, 'button': False, 'endim': False, 'blister': False, 'packaging': False, '45': False, '30': False, 'sent': False, 'email': False, 'till': False, 'soundboard': False, 'plain': False, 'simpleif': False, 'workbuy': False, 'technica': False, 'withstand': False, 'attachment': False, 'loosening': False, 'develops': False, 'threaded': False, 'cap': False, 'outside': False, 'slide': False, 'legged': False, 'gripper': False, 'underneath': False, 'outer': False, 'unfortunately': False, 'chose': False, 'award': False, 'rating': False, 'f': False, '1ftas': False, 'pinout': False, 'straightforward': False, 'tied': False, 'grip': False, 'shield': False, 'connects': False, 'chosen': False, 'lost': False, 'apart': False, 'bumper': False, 'interconnecting': False, 'temporary': False, 'arisesanother': False, 'favorite': False, 'mentioned': False, 'rush': False, 'yougls': False, '3ft': False, 'phase': False, 'lift': False, 'oddball': False, 'quibble': False, 'final': False, 'mixback': False, 'rewire': False, 'xlrs': False, 'booth': False, 'yell': False, 'stretcher': False, 'planned': False, 'movedquit': False, 'saved': False, 'torn': False, 'rewired': False, 'showingi': False, 'equipped': False, 'rca': False, 'hiz': False, 'access': False, 'mainly': False, 'solve': False, 'gaffer': False, 'tape': False, 'measure': False, 'prevent': False, 'tripping': False, 'hazard': False, '2ea': False, 'opened': False, 'permanent': False, '25mm': False, 't': False, 'misc': False, 'bin': False, 'judicial': False, 'miracle': False, 'painted': False, 'existance': False, 'owner': False, 'daughers': False, 'toy': False, 'musicbox': False, 'becomes': False, 'mix': False, 'magicmy': False, 'advice': False, 'deconstruct': False, 'doubt': False, 'thus': False, 'recreating': False, 'pulling': False, 'trick': False, 'solving': False, 'furthering': False, 'staff': False, 'violate': False, 'serve': False, 'reversed': False, 'lifted': False, 'duet': False, 'bar': False, 'pierced': False, 'kept': False, 'jewelry': False, 'chalked': False, 'intended': False, 'piercings': False, 'scraping': False, 'rehersal': False, 'assignment': False, 'rode': False, 'allowed': False, 'finished': False, 'independence': False, 'sea': False, 'itipa': False, 'impress': False, 'dot': False, 'com': False, 'consistent': False, 'quiet': False, 'condensor': False, 'session': False, 'sennheiser': False, 'e825': False, 'suitable': False, 'jamming': False, 'recommendedupdate': False, 'marked': False, 'regarded': False, 'relatively': False, 'tat': False, 'microscrewdriver': False, 'te': False, 'xperience': False, 'depending': False, 'semistationary': False, 'pricey': False, 'maneuverability': False, 'date': False, 'miniamp': False, 'encountered': False, 'lifei': False, 'suggest': False, 'colleague': False, 'packet': False, 'gator': False, 'wouldve': False, 'gotten': False, 'washer': False, 'protect': False, 'ahead': False, 'estimated': False, 'arrival': False, 'hole': False, 'presentation': False, '16u': False, 'described': False, 'pic': False, 'bugger': False, '2nd': False, 'washerscons': False, 'wait': False, 'shipid': False, '16': False, 'filled': False, 'mounting': False, 'invisible': False, 'rail': False, 'plate': False, 'finish': False, 'donr': False, 'fooled': False, 'imitation': False, 'slogan': False, 'junky': False, 'saver': False, 'desktop': False, '1032': False, 'mccoy': False, 'pan': False, 'narrow': False, 'raxxess': False, 'survives': False, 'censor': False, 'original': False, 'supplied': False, 'pant': False, 'airy': False, 'resonator': False, 'bright': False, 'drive': False, 'pinto': False, 'cadillac': False, 'standardgoto': False, 'vocalspecific': False, 'micbasically': False, 'muffledmuddy': False, 'beta58a': False, 'stronger': False, 'articulate': False, 'harsh': False, 'adjustable': False, 'tighter': False, 'claritypatternwise': False, 'rejecting': False, 'considerably': False, 'strapped': False, 'cash': False, 'dough': False, 'singerssong': False, 'leader': False, 'liked': False, 'growing': False, 'addtional': False, 'whoaaah': False, 'songleaders': False, 'anymore': False, 'staple': False, 'rightly': False, 'comparative': False, 'amazing': False, 'craftsmanship': False, 'alleviate': False, 'associated': False, 'confined': False, 'utilized': False, 'demonstrated': False, 'broader': False, 'completely': False, 'eliminated': False, 'severe': False, 'pull': False, 'sustained': False, 'dream': False, 'experiencing': False, 'sibilance': False, 'complication': False, 'opposed': False, 'itwhile': False, 'understanding': False, 'engineering': False, 'standpoint': False, 'technical': False, 'expounded': False, 'confidently': False, 'bottom': False, 'opportunity': False, 'demonstrate': False, 'superiority': False, 'six': False, 'general': False, 'throughout': False, 'country': False, 'commonly': False, 'theater': False, 'highend': False, 'recentlyi': False, 'definitetly': False, 'hotter': False, 'mids': False, 'subtle': False, 'rolloff': False, 'boomy': False, 'muddled': False, 'hitting': False, 'pattern': False, 'extraneous': False, 'effectively': False, 'rejectedbuilt': False, 'overused': False, 'describing': False, 'earn': False, 'enormous': False, 'falter': False, 'toss': False, 'bury': False, 'maintaining': False, 'bunch': False, 'bos': False, 'tr2': False, 'perceived': False, 'typical': False, 'tremolo': False, 'rehoused': False, 'enclosure': False, 'scared': False, 'breaking': False, 'saying': False, 'huge': False, 'dano': False, 'covering': False, 'imho': False, 'danos': False, 'cat': False, 'weak': False, 'bypass': False, 'sturdier': False, 'feature': False, 'bulletproof': False, 'trem': False, 'hey': False, 'cheapo': False, 'casing': False, 'versatile': False, 'comeand': False, 'combo': False, '500': False, 'me70': False, 'drying': False, 'tuna': False, 'melt': False, 'danelectro': False, 'stunning': False, 'ability': False, 'vintage': False, '1214': False, 'dissapointed': False, 'noisethen': False, 'lately': False, 'improve': False, 'skill': False, 'joy': False, 'rediscovering': False, 'themforget': False, 'fab': False, 'dan': False, 'echo': False, 'sorry': False, 'hello': False, 'musicfriends': False, 'studiosongwriting': False, 'tour': False, 'hidden': False, 'age': False, 'lush': False, 'trems': False, 'pleasure': False, 'inputoutput': False, 'located': False, 'capo': False, 'tuning': False, 'upside': False, 'partial': False, 'adjusting': False, 'downall': False, 'foreverkyser': False, 'christian': False, 'supporting': False, 'colour': False, 'confused': False, 'el': False, 'lesson': False, 'remove': False, 'triggertype': False, 'release': False, 'easiest': False, 'quickchange': False, 'lightweight': False, 'aluminum': False, 'takamine': False, 'jasmine': False, 's35': False, 'dothese': False, 'sucker': False, 'wonderfully': False, 'removable': False, 'damaged': False, 'neglect': False, 'keyser': False, 'nogreat': False, 'dunlopwhich': False, 'triedi': False, 'cheeper': False, 'casebut': False, 'fineand': False, 'madearrived': False, 'timeenjoy': False, 'camo': False, 'simplicity': False, 'unique': False, 'uke': False, 'manufactor': False, 'suggests': False, 'duration': False, 'pressure': False, 'camp': False, 'winding': False, '6string': False, 'kyser': False, '12string': False, 'notch': False, 'tension': False, 'squeeze': False, 'install': False, 'hurry': False, 'dosnt': False, 'mar': False, 'excessive': False, 'fret': False, 'headstock': False, 'allow': False, 'maximum': False, 'finger': False, 'buzzing': False, 'travel': False, 'lever': False, 'arm': False, 'coated': False, 'supple': False, 'caution': False, 'indent': False, 'permanently': False, 'cumbersome': False, 'difficult': False, 'breakable': False, 'convenient': False, 'cinch': False, 'corrode': False, 'tarnish': False, 'yearsvery': False, 'protected': False, 'scratch': False, 'nick': False, 'grasp': False, 'pink': False, 'match': False, 'currenty': False, 'shubb': False, 'weaknessesthe': False, 'quickest': False, 'adjustment': False, 'smallerthe': False, 'main': False, 'fretboard': False, 'necessary': False, 'faster': False, 'shubbs': False, 'baby': False, 'usegreat': False, 'thank': False, 'depresses': False, 'fully': False, 'longevity': False, 'satisfies': False, 'kyseryou': False, 'durablewhats': False, 'asa': False, 'transparent': False, 'jobit': False, 'alsoi': False, 'silver': False, 'caposi': False, 'stylesi': False, 'conditionsuse': False, 'child': False, 'teach': False, 'treated': False, 'rough': False, 'uncomfortable': False, 'rushed': False, 'unpleasant': False, 'itll': False, 'seated': False, 'originally': False, 'elastic': False, 'throw': False, 'correctly': False, 'repeat': False, 'adjust': False, 'stylish': False, 'bargain': False, 'compressing': False, 'grooved': False, 'sense': False, 'blk': False, 'remind': False, 'middle': False, 'wonder': False, 'tightly': False, 'tightyet': False, 'structured': False, 'dramatically': False, 'husband': False, 'usese': False, 'everytine': False, 'lasted': False, 'differenti': False, 'lazy': False, 'pegheadreaching': False, 'peghead': False, 'reaching': False, 'according': False, 'sofa': False, 'table': False, 'backed': False, 'improvement': False, 'protector': False, 'behind': False, 'slip': False, 'surface': False, 'extended': False, 'base': False, 'pivot': False, 'mywashburn': False, 'd10': False, 'orlando': False, 'bill': False, 'nicelyupdate': False, '72510': False, 'boo': False, 'hoo': False, 'offthe': False, 'mechanism': False, 'rubberized': False, 'clampsrubberized': False, 'scratching': False, 'marring': False, 'ergonomicthe': False, 'arched': False, 'weirdlooking': False, 'loopy': False, 'thingy': False, 'firmly': False, 'slipping': False, 'reposition': False, 'durablethe': False, 'aluminumupdate': False, 'champ': False, 'moi': False, 'november': False, '2007': False, 'colbie': False, 'caillat': False, 'bubblycheck': False, 'inbubblythe': False, 'presently': False, 'counter': False, 'attention': False, 'placement': False, 'g7th': False, 'evenly': False, 'kapo': False, 'sleek': False, 'greenish': False, 'yellow': False, 'accoustic': False, 'deserves': False, 'rounded': False, 'tighteri': False, 'aestheticits': False, 'necessarilydont': False, 'product5star': False, 'outforget': False, 'bux': False, 'patriotic': False, 'obvious': False, 'lovely': False, 'shard': False, 'silk': False, 'screening': False, 'snug': False, 'nobody': False, 'steal': False, 'm170': False, 'ernie': False, 'earthwood': False, 'shallow': False, 'unlike': False, 'pain': False, 'fullest': False, 'electro': False, '13': False, 'rithyms': False, 'elsei': False, 'installed': False, 'easierrecomended': False, 'named': False, 'usinging': False, 'manymany': False, 'yearsgrab': False, 'pricegreat': False, '349': False, 'dumping': False, 'greatlong': False, 'wiping': False, 'provide': False, 'dreadnought': False, 'heaven': False, 'soundthe': False, 'thinner': False, 'toogo': False, '1st': False, 'rich': False, 'broke': False, 'e': False, 'restringing': False, 'luckily': False, 'completed': False, 'fingerpacking': False, 'sometime': False, 'tired': False, 'steel': False, 'okay': False, 'folk': False, 'guitarnothing': False, 'special': False, 'gibson': False, 'j50': False, 'forever': False, 'thatthese': False, 'peg': False, 'stringsit': False, 'nicer': False, 'richer': False, 'saddle': False, 'bridge': False, 'restring': False, 'goi': False, 'yearslets': False, 'itmy': False, 'sore': False, 'handsi': False, 'usei': False, 'restrung': False, '016ny': False, 'guitaristthe': False, '35': False, 'dread': False, 'indicatei': False, 'wipe': False, 'minimize': False, 'tarnishingso': False, 'greatgreat': False, 'beautiful': False, 'mellow': False, 'ovation': False, 'possession': False, 'beater': False, 'holder': False, 'picture': False, 'misleading': False, 'barely': False, 'wedge': False, 'neath': False, 'convenientonly': False, 'negative': False, 'losing': False, 'dropping': False, 'sided': False, 'fun': False, 'pocket': False, 'strap': False, 'elsewhere': False, 'findloose': False, 'lightly': False, 'redeisigned': False, 'concluded': False, '800': False, 'velcro': False, 'preferable': False, 'groove': False, 'gadget': False, 'everybody': False, 'misplace': False, 'gage': False, 'therefore': False, 'stocking': False, 'stuffer': False, 'whicdh': False, 'enjoyed': False, 'smaller': False, 'snugly': False, 'pictured': False, 'recommendable': False, 'ax': False, 'dislodged': False, 'majority': False, 'fancy': False, 'possibility': False, 'falling': False, 'stageplease': False, 'click': False, 'helpful': False, 'encourage': False, 'writing': False, 'updating': False, 'question': False, 'answer': False, 'digging': False, 'scavenging': False, '5string': False, 'bassist': False, 'suddenly': False, 'wheres': False, 'offset': False, 'tuner': False, 'indispensable': False, 'sticky': False, 'stuffthere': False, 'specially': False, 'updated': False, 'stringsthe': False, 'explorer': False, 'spreading': False, 'jackson': False, 'radically': False, 'edition': False, 'audiophile': False, 'hound': False, 'resonance': False, 'attach': False, 'likey': False, 'asher': False, 'junior': False, 'lap': False, 'thumb': False, 'wedgie': False, '2nd3rd': False, '4th5th': False, 'nut': False, 'doodad': False, 'staying': False, 'organized': False, '55': False, 'tijuana': False, 'wood': False, 'progressing': False, 'respecti': False, 'treat': False, 'paul': False, '58th': False, 'birthday': False, 'financial': False, 'resource': False, '300000': False, 'git': False, 'shopped': False, 'settling': False, 'cherry': False, 'burst': False, 'lp100it': False, 'smooshed': False, 'notwithstanding': False, 'sorta': False}\n"
          ]
        }
      ]
    },
    {
      "cell_type": "code",
      "metadata": {
        "id": "v0l78BxqG_HT"
      },
      "source": [
        "# Data Preparation\n",
        "feature_set_new = [(find_features(word_tokenize(text)), sentiment) for (text, sentiment) in feature_set]\n",
        "\n",
        "# Set random state\n",
        "import random\n",
        "random.shuffle(feature_set_new)\n",
        "\n",
        "# Split into training set and testing set\n",
        "train_set, test_set = feature_set_new[3000:], feature_set_new[:3000]"
      ],
      "execution_count": 80,
      "outputs": []
    },
    {
      "cell_type": "code",
      "metadata": {
        "id": "Pc8yGGdSHzHE"
      },
      "source": [
        "# Fit the training set into Naive Bayes classifier\n",
        "classifier = nltk.NaiveBayesClassifier.train(train_set)"
      ],
      "execution_count": 81,
      "outputs": []
    },
    {
      "cell_type": "code",
      "metadata": {
        "colab": {
          "base_uri": "https://localhost:8080/"
        },
        "id": "IcE2814gH_mF",
        "outputId": "4b2c062b-eb01-43ef-91b4-c5715e7ac90e"
      },
      "source": [
        "nltk.classify.accuracy(classifier, test_set)"
      ],
      "execution_count": 82,
      "outputs": [
        {
          "output_type": "execute_result",
          "data": {
            "text/plain": [
              "0.83"
            ]
          },
          "metadata": {},
          "execution_count": 82
        }
      ]
    },
    {
      "cell_type": "code",
      "metadata": {
        "colab": {
          "base_uri": "https://localhost:8080/"
        },
        "id": "EVX8JryfIYiT",
        "outputId": "041cb95a-26fb-45e5-f4c1-59567d1d0a53"
      },
      "source": [
        "classifier.show_most_informative_features(20)"
      ],
      "execution_count": 83,
      "outputs": [
        {
          "output_type": "stream",
          "name": "stdout",
          "text": [
            "Most Informative Features\n",
            "                soundman = True           Neutra : Positi =     49.1 : 1.0\n",
            "                 fearful = True           Neutra : Positi =     49.1 : 1.0\n",
            "              florescent = True           Neutra : Positi =     49.1 : 1.0\n",
            "             keyboardist = True           Neutra : Positi =     49.1 : 1.0\n",
            "             notoriously = True           Neutra : Positi =     49.1 : 1.0\n",
            "                   great = True           Positi : Neutra =     27.7 : 1.0\n",
            "                    like = True           Positi : Neutra =     24.5 : 1.0\n",
            "                     834 = True           Neutra : Positi =     21.1 : 1.0\n",
            "                  leader = True           Neutra : Positi =     16.4 : 1.0\n",
            "                     800 = True           Neutra : Positi =     16.4 : 1.0\n",
            "                 listing = True           Negati : Positi =     15.5 : 1.0\n",
            "                   hated = True           Negati : Positi =     15.5 : 1.0\n",
            "                 broader = True           Negati : Positi =     15.5 : 1.0\n",
            "                  keyser = True           Negati : Positi =     15.5 : 1.0\n",
            "                 problem = True           Negati : Neutra =     14.9 : 1.0\n",
            "                  boogie = True           Neutra : Positi =     13.4 : 1.0\n",
            "             measurement = True           Neutra : Positi =     13.4 : 1.0\n",
            "                    well = True           Positi : Neutra =     12.8 : 1.0\n",
            "                  better = True           Positi : Neutra =     12.3 : 1.0\n",
            "                  sucker = True           Negati : Positi =     12.0 : 1.0\n"
          ]
        }
      ]
    },
    {
      "cell_type": "markdown",
      "metadata": {
        "id": "-o05-1PAIAQZ"
      },
      "source": [
        "### Model performance metrics"
      ]
    },
    {
      "cell_type": "code",
      "metadata": {
        "colab": {
          "base_uri": "https://localhost:8080/"
        },
        "id": "uTtabdUqLvgZ",
        "outputId": "9935ecd9-05e3-42e0-e35b-01b7b497f9ef"
      },
      "source": [
        "!pip install NLTK\n",
        "from nltk import NaiveBayesClassifier\n",
        "import collections\n",
        "from nltk import precision\n",
        "from nltk import recall\n",
        "from nltk import f_measure\n",
        "from nltk import ConfusionMatrix\n",
        "\n",
        "refsets = collections.defaultdict(set)\n",
        "testsets = collections.defaultdict(set)\n",
        "labels = []\n",
        "tests = []\n",
        " \n",
        "for i, (text, sentiment) in enumerate(test_set):\n",
        "    refsets[sentiment].add(i)\n",
        "    observed = classifier.classify(text)\n",
        "    testsets[observed].add(i)\n",
        "    labels.append(sentiment)\n",
        "    tests.append(observed)\n",
        "\n",
        "#Confusion matrix\n",
        "print('CONFUSION MATRIX\\n')\n",
        "print(nltk.ConfusionMatrix(labels, tests))\n",
        "\n",
        "# Model Evaluation Metrics\n",
        "accuracy = nltk.classify.accuracy(classifier, test_set)\n",
        "\n",
        "#Positive class\n",
        "pos_precision = precision(refsets['Positive'], testsets['Positive'])\n",
        "pos_recall = recall(refsets['Positive'], testsets['Positive'])\n",
        "pos_fmeasure = f_measure(refsets['Positive'], testsets['Positive'])\n",
        "#Neutral class\n",
        "neu_precision = precision(refsets['Neutral'], testsets['Neutral'])\n",
        "neu_recall = recall(refsets['Neutral'], testsets['Neutral'])\n",
        "neu_fmeasure = f_measure(refsets['Neutral'], testsets['Neutral'])\n",
        "#Negative class\n",
        "neg_precision = precision(refsets['Negative'], testsets['Negative'])\n",
        "neg_recall = recall(refsets['Negative'], testsets['Negative'])\n",
        "neg_fmeasure = f_measure(refsets['Negative'], testsets['Negative'])\n",
        "\n",
        "print('')\n",
        "print('---------------------------------------')\n",
        "print('        NAIVE BAYES CLASSIFIER         ')\n",
        "print('---------------------------------------')\n",
        "print('Accuracy:', accuracy)\n",
        "print('\\n')\n",
        "\n",
        "#Positive sentiment\n",
        "print('Positive sentiment')\n",
        "print('---------------------------------------')\n",
        "print('Pos_Precision', (pos_precision))\n",
        "print('Pos_Recall', (pos_recall))\n",
        "print('Pos_F1-Score', (pos_fmeasure))\n",
        "print('\\n')\n",
        "\n",
        "#Neutral sentiment\n",
        "print('Neutral sentiment')\n",
        "print('---------------------------------------')\n",
        "print('Neu_Precision', (neu_precision))\n",
        "print('Neu_Recall', (neu_recall))\n",
        "print('Neu_F1-Score', (neu_fmeasure))\n",
        "print('\\n')\n",
        "\n",
        "#Negative sentiment\n",
        "print('Negative sentiment')\n",
        "print('---------------------------------------')\n",
        "print('Neg_Precision', (neg_precision))\n",
        "print('Neg_Recall', (neg_recall))\n",
        "print('Neg_F1-Score', (neg_fmeasure))\n",
        "print('\\n')\n",
        "\n"
      ],
      "execution_count": 84,
      "outputs": [
        {
          "output_type": "stream",
          "name": "stdout",
          "text": [
            "Requirement already satisfied: NLTK in /usr/local/lib/python3.7/dist-packages (3.4)\n",
            "Requirement already satisfied: singledispatch in /usr/local/lib/python3.7/dist-packages (from NLTK) (3.7.0)\n",
            "Requirement already satisfied: six in /usr/local/lib/python3.7/dist-packages (from NLTK) (1.15.0)\n",
            "\u001b[33mWARNING: Running pip as the 'root' user can result in broken permissions and conflicting behaviour with the system package manager. It is recommended to use a virtual environment instead: https://pip.pypa.io/warnings/venv\u001b[0m\n",
            "CONFUSION MATRIX\n",
            "\n",
            "         |    N         P |\n",
            "         |    e    N    o |\n",
            "         |    g    e    s |\n",
            "         |    a    u    i |\n",
            "         |    t    t    t |\n",
            "         |    i    r    i |\n",
            "         |    v    a    v |\n",
            "         |    e    l    e |\n",
            "---------+----------------+\n",
            "Negative | <114>  21  182 |\n",
            " Neutral |   15  <23>  20 |\n",
            "Positive |  196   76<2353>|\n",
            "---------+----------------+\n",
            "(row = reference; col = test)\n",
            "\n",
            "\n",
            "---------------------------------------\n",
            "        NAIVE BAYES CLASSIFIER         \n",
            "---------------------------------------\n",
            "Accuracy: 0.83\n",
            "\n",
            "\n",
            "Positive sentiment\n",
            "---------------------------------------\n",
            "Pos_Precision 0.9209393346379647\n",
            "Pos_Recall 0.8963809523809524\n",
            "Pos_F1-Score 0.9084942084942085\n",
            "\n",
            "\n",
            "Neutral sentiment\n",
            "---------------------------------------\n",
            "Neu_Precision 0.19166666666666668\n",
            "Neu_Recall 0.39655172413793105\n",
            "Neu_F1-Score 0.2584269662921348\n",
            "\n",
            "\n",
            "Negative sentiment\n",
            "---------------------------------------\n",
            "Neg_Precision 0.3507692307692308\n",
            "Neg_Recall 0.35962145110410093\n",
            "Neg_F1-Score 0.35514018691588783\n",
            "\n",
            "\n"
          ]
        }
      ]
    }
  ]
}